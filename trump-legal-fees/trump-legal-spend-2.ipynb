{
 "cells": [
  {
   "cell_type": "markdown",
   "metadata": {},
   "source": [
    "# What proportion of Trump fundraising goes to legal fees?\n",
    "\n",
    "\n",
    "Inspiration:\n",
    "* Economist: [Trump's legal fees are draining campaign funds](https://www.economist.com/graphic-detail/2024/02/01/donald-trumps-legal-fees-are-draining-his-campaign-funds)\n",
    "* NYT: [Trump's PACs spent $50 million on legal expenses](https://www.nytimes.com/2024/01/30/us/politics/trump-legal-fees.html)\n",
    "\n",
    "Goal:\n",
    "* To produce an [alluvial diagram](https://flourish.studio/blog/animating-sankey-visualisations/) showing inputs from donors, pass-through organizatinos in the middle, and spending items at the end. We can do this with [Mike Bostock's Sankey chart component](https://observablehq.com/d/56c49c88e84b5de5) on Observable.\n",
    "\n",
    "Data structure:\n",
    "* Data should always be in *long format*. Columns labelled `source` and `target` indicate flow, and the `value` column indicates the amount of money.\n",
    "\n",
    "So our data should roughly look like:\n",
    "\n",
    "| Source    | Target | Value |\n",
    "| -------- | ------- | -------- |\n",
    "| Donors | MAGA Inc.   | \\$100 |\n",
    "| Maga Inc. | Save America     | \\$50 |\n",
    "| Save America  | Legal fees  | \\$45" |
   ]
  },
  {
   "cell_type": "markdown",
   "metadata": {},
   "source": [
    "## 1: List of entities\n",
    "\n",
    "| Entity    | ID | Description |\n",
    "| -------- | ------- | ----- |\n",
    "| [Trump Save America Committee](https://www.fec.gov/data/committee/C00770941/) | C00770941 |2024 fundraising committee | \n",
    "| [Trump MAGA Committee](https://www.fec.gov/data/committee/C00618371/) | C00618371 | 2020 fundraising committee, still active in '22 cycle |\n",
    "| [Donald J. Trump for President 2024](https://www.fec.gov/data/committee/C00828541/) | C00828541 | Official presidential campaign |\n",
    "| [Save America PAC](https://www.fec.gov/data/committee/C00762591/) | C00762591 | PAC that mostly pays legal fees |\n",
    "| [MAGA PAC](https://www.fec.gov/data/committee/C00580100/) | C00580100 | Smaller PAC that also spends on legal fees |\n",
    "| [MAGA Inc](https://www.fec.gov/data/committee/C00825851/) | C00825851 | Super PAC that got $60M from Save America, then refunded |"
   ]
  },
  {
   "cell_type": "markdown",
   "metadata": {},
   "source": [
    "**Principles:**\n",
    "\n",
    "In order to make a readable chart, we need to focus only on the core data points that are relevant to our analysis. So:\n",
    "\n",
    "* For each entity that spends money on legal fees, we track *inputs* (donors + committees) and *legal outputs* (money spent on legal fees, reimbursements, consultation etc)\n",
    "* For other entities we track *inputs* (from donors & other contributions)\n",
    "* We record committee affiliate transfers only as *outputs* sent to committees that spend on legal fees (to avoid double-counting them as inputs of other committees)\n",
    "* We make a special record type for the MAGA Inc. contribution & refund, because it's a unique case."
   ]
  },
  {
   "cell_type": "markdown",
   "metadata": {},
   "source": [
    "## 2: Inputs and outputs"
   ]
  },
  {
   "cell_type": "code",
   "execution_count": 496,
   "metadata": {},
   "outputs": [],
   "source": [
    "import pandas as pd\n",
    "# Show all columns\n",
    "pd.options.display.max_columns = None"
   ]
  },
  {
   "cell_type": "markdown",
   "metadata": {},
   "source": [
    "#### Trump Save America Committee\n",
    "\n",
    "[2022](https://www.fec.gov/data/committee/C00770941/?cycle=2022) |\n",
    "[2024](https://www.fec.gov/data/committee/C00770941/?cycle=2024)\n"
   ]
  },
  {
   "cell_type": "code",
   "execution_count": 497,
   "metadata": {},
   "outputs": [
    {
     "data": {
      "text/html": [
       "<div>\n",
       "<style scoped>\n",
       "    .dataframe tbody tr th:only-of-type {\n",
       "        vertical-align: middle;\n",
       "    }\n",
       "\n",
       "    .dataframe tbody tr th {\n",
       "        vertical-align: top;\n",
       "    }\n",
       "\n",
       "    .dataframe thead th {\n",
       "        text-align: right;\n",
       "    }\n",
       "</style>\n",
       "<table border=\"1\" class=\"dataframe\">\n",
       "  <thead>\n",
       "    <tr style=\"text-align: right;\">\n",
       "      <th></th>\n",
       "      <th>source</th>\n",
       "      <th>target</th>\n",
       "      <th>value</th>\n",
       "      <th>cycle</th>\n",
       "    </tr>\n",
       "  </thead>\n",
       "  <tbody>\n",
       "    <tr>\n",
       "      <th>0</th>\n",
       "      <td>DONOR CONTRIBUTIONS</td>\n",
       "      <td>TRUMP SAVE AMERICA JOINT FUNDRAISING COMMITTEE</td>\n",
       "      <td>151325986</td>\n",
       "      <td>2022</td>\n",
       "    </tr>\n",
       "    <tr>\n",
       "      <th>1</th>\n",
       "      <td>DONOR CONTRIBUTIONS</td>\n",
       "      <td>TRUMP SAVE AMERICA JOINT FUNDRAISING COMMITTEE</td>\n",
       "      <td>129020950</td>\n",
       "      <td>2024</td>\n",
       "    </tr>\n",
       "  </tbody>\n",
       "</table>\n",
       "</div>"
      ],
      "text/plain": [
       "                source                                          target  \\\n",
       "0  DONOR CONTRIBUTIONS  TRUMP SAVE AMERICA JOINT FUNDRAISING COMMITTEE   \n",
       "1  DONOR CONTRIBUTIONS  TRUMP SAVE AMERICA JOINT FUNDRAISING COMMITTEE   \n",
       "\n",
       "       value  cycle  \n",
       "0  151325986   2022  \n",
       "1  129020950   2024  "
      ]
     },
     "execution_count": 497,
     "metadata": {},
     "output_type": "execute_result"
    }
   ],
   "source": [
    "# Construct donor inputs\n",
    "inputs = {\n",
    "    \"source\": ['DONOR CONTRIBUTIONS','DONOR CONTRIBUTIONS'],\n",
    "    \"target\": ['TRUMP SAVE AMERICA JOINT FUNDRAISING COMMITTEE','TRUMP SAVE AMERICA JOINT FUNDRAISING COMMITTEE'],\n",
    "    \"value\": [151325986,129020950],\n",
    "    \"cycle\": [2022,2024]\n",
    "}\n",
    "pd.DataFrame(inputs)"
   ]
  },
  {
   "cell_type": "code",
   "execution_count": 498,
   "metadata": {},
   "outputs": [],
   "source": [
    "# First save to CSV\n",
    "pd.DataFrame(inputs).to_csv('data/trump-legal-spend.csv',index=False)"
   ]
  },
  {
   "cell_type": "code",
   "execution_count": 499,
   "metadata": {},
   "outputs": [],
   "source": [
    "# Defing group & sum function for transfers\n",
    "def transfer_groupsum(df):\n",
    "    df = df.groupby(['recipient_name'])['disbursement_amount'].sum()\\\n",
    "        .sort_values(ascending=False).reset_index()\n",
    "    return df"
   ]
  },
  {
   "cell_type": "code",
   "execution_count": 500,
   "metadata": {},
   "outputs": [],
   "source": [
    "# Define function to put data into source -> target format\n",
    "def format_transfer_data(df, source_name):\n",
    "    # Label and reorder columns\n",
    "    df['source'] = source_name\n",
    "    df.columns.values[0] = \"target\"\n",
    "    df.columns.values[1] = \"value\"\n",
    "    df = df[['source', 'target', 'value']]\n",
    "    return df"
   ]
  },
  {
   "cell_type": "code",
   "execution_count": 501,
   "metadata": {},
   "outputs": [],
   "source": [
    "# Combine groupsum and format functions & add cycle\n",
    "def group_format(df, source_name, cycle):\n",
    "    data = transfer_groupsum(df)\n",
    "    data = format_transfer_data(data, source_name)\n",
    "    data['cycle'] = cycle\n",
    "    return data"
   ]
  },
  {
   "cell_type": "code",
   "execution_count": 502,
   "metadata": {},
   "outputs": [],
   "source": [
    "# Write to master csv in 'append' mode\n",
    "def save_csv(df):\n",
    "    file_name = 'data/trump-legal-spend.csv'\n",
    "    df.to_csv(file_name, mode='a', index=False, header=False)"
   ]
  },
  {
   "cell_type": "code",
   "execution_count": 503,
   "metadata": {},
   "outputs": [
    {
     "data": {
      "text/html": [
       "<div>\n",
       "<style scoped>\n",
       "    .dataframe tbody tr th:only-of-type {\n",
       "        vertical-align: middle;\n",
       "    }\n",
       "\n",
       "    .dataframe tbody tr th {\n",
       "        vertical-align: top;\n",
       "    }\n",
       "\n",
       "    .dataframe thead th {\n",
       "        text-align: right;\n",
       "    }\n",
       "</style>\n",
       "<table border=\"1\" class=\"dataframe\">\n",
       "  <thead>\n",
       "    <tr style=\"text-align: right;\">\n",
       "      <th></th>\n",
       "      <th>source</th>\n",
       "      <th>target</th>\n",
       "      <th>value</th>\n",
       "      <th>cycle</th>\n",
       "    </tr>\n",
       "  </thead>\n",
       "  <tbody>\n",
       "    <tr>\n",
       "      <th>0</th>\n",
       "      <td>TRUMP SAVE AMERICA JOINT FUNDRAISING COMMITTEE</td>\n",
       "      <td>SAVE AMERICA</td>\n",
       "      <td>53925758.49</td>\n",
       "      <td>2022</td>\n",
       "    </tr>\n",
       "    <tr>\n",
       "      <th>1</th>\n",
       "      <td>TRUMP SAVE AMERICA JOINT FUNDRAISING COMMITTEE</td>\n",
       "      <td>MAKE AMERICA GREAT AGAIN PAC</td>\n",
       "      <td>5554687.77</td>\n",
       "      <td>2022</td>\n",
       "    </tr>\n",
       "    <tr>\n",
       "      <th>2</th>\n",
       "      <td>TRUMP SAVE AMERICA JOINT FUNDRAISING COMMITTEE</td>\n",
       "      <td>DONALD J. TRUMP FOR PRESIDENT 2024, INC.</td>\n",
       "      <td>3817780.66</td>\n",
       "      <td>2022</td>\n",
       "    </tr>\n",
       "    <tr>\n",
       "      <th>0</th>\n",
       "      <td>TRUMP SAVE AMERICA JOINT FUNDRAISING COMMITTEE</td>\n",
       "      <td>DONALD J. TRUMP FOR PRESIDENT 2024, INC.</td>\n",
       "      <td>72007996.40</td>\n",
       "      <td>2024</td>\n",
       "    </tr>\n",
       "    <tr>\n",
       "      <th>1</th>\n",
       "      <td>TRUMP SAVE AMERICA JOINT FUNDRAISING COMMITTEE</td>\n",
       "      <td>SAVE AMERICA</td>\n",
       "      <td>8864398.59</td>\n",
       "      <td>2024</td>\n",
       "    </tr>\n",
       "  </tbody>\n",
       "</table>\n",
       "</div>"
      ],
      "text/plain": [
       "                                           source  \\\n",
       "0  TRUMP SAVE AMERICA JOINT FUNDRAISING COMMITTEE   \n",
       "1  TRUMP SAVE AMERICA JOINT FUNDRAISING COMMITTEE   \n",
       "2  TRUMP SAVE AMERICA JOINT FUNDRAISING COMMITTEE   \n",
       "0  TRUMP SAVE AMERICA JOINT FUNDRAISING COMMITTEE   \n",
       "1  TRUMP SAVE AMERICA JOINT FUNDRAISING COMMITTEE   \n",
       "\n",
       "                                     target        value  cycle  \n",
       "0                              SAVE AMERICA  53925758.49   2022  \n",
       "1              MAKE AMERICA GREAT AGAIN PAC   5554687.77   2022  \n",
       "2  DONALD J. TRUMP FOR PRESIDENT 2024, INC.   3817780.66   2022  \n",
       "0  DONALD J. TRUMP FOR PRESIDENT 2024, INC.  72007996.40   2024  \n",
       "1                              SAVE AMERICA   8864398.59   2024  "
      ]
     },
     "execution_count": 503,
     "metadata": {},
     "output_type": "execute_result"
    }
   ],
   "source": [
    "df22 = pd.read_csv('data/TSA_JFC-transfers-22.csv')\n",
    "df24 = pd.read_csv('data/TSA_JFC-transfers-24.csv')\n",
    "\n",
    "pd.concat([\n",
    "    group_format(df22, 'TRUMP SAVE AMERICA JOINT FUNDRAISING COMMITTEE', 2022),\n",
    "    group_format(df24, 'TRUMP SAVE AMERICA JOINT FUNDRAISING COMMITTEE', 2024)\n",
    "])"
   ]
  },
  {
   "cell_type": "code",
   "execution_count": 504,
   "metadata": {},
   "outputs": [],
   "source": [
    "save_csv(pd.concat([\n",
    "    group_format(df22, 'TRUMP SAVE AMERICA JOINT FUNDRAISING COMMITTEE', 2022),\n",
    "    group_format(df24, 'TRUMP SAVE AMERICA JOINT FUNDRAISING COMMITTEE', 2024)\n",
    "]))"
   ]
  },
  {
   "cell_type": "markdown",
   "metadata": {},
   "source": [
    "#### Trump MAGA Committee\n",
    "\n",
    "[2022](https://www.fec.gov/data/committee/C00618371/?cycle=2022) |\n",
    "[2024](https://www.fec.gov/data/committee/C00618371/?cycle=2024)"
   ]
  },
  {
   "cell_type": "code",
   "execution_count": 505,
   "metadata": {},
   "outputs": [
    {
     "data": {
      "text/html": [
       "<div>\n",
       "<style scoped>\n",
       "    .dataframe tbody tr th:only-of-type {\n",
       "        vertical-align: middle;\n",
       "    }\n",
       "\n",
       "    .dataframe tbody tr th {\n",
       "        vertical-align: top;\n",
       "    }\n",
       "\n",
       "    .dataframe thead th {\n",
       "        text-align: right;\n",
       "    }\n",
       "</style>\n",
       "<table border=\"1\" class=\"dataframe\">\n",
       "  <thead>\n",
       "    <tr style=\"text-align: right;\">\n",
       "      <th></th>\n",
       "      <th>source</th>\n",
       "      <th>target</th>\n",
       "      <th>value</th>\n",
       "      <th>cycle</th>\n",
       "    </tr>\n",
       "  </thead>\n",
       "  <tbody>\n",
       "    <tr>\n",
       "      <th>0</th>\n",
       "      <td>DONOR CONTRIBUTIONS</td>\n",
       "      <td>TRUMP MAKE AMERICA GREAT AGAIN COMMITTEE</td>\n",
       "      <td>29340023</td>\n",
       "      <td>2022</td>\n",
       "    </tr>\n",
       "    <tr>\n",
       "      <th>1</th>\n",
       "      <td>CASH ON HAND FROM 2020 DONORS</td>\n",
       "      <td>TRUMP MAKE AMERICA GREAT AGAIN COMMITTEE</td>\n",
       "      <td>59876405</td>\n",
       "      <td>2022</td>\n",
       "    </tr>\n",
       "  </tbody>\n",
       "</table>\n",
       "</div>"
      ],
      "text/plain": [
       "                          source                                    target  \\\n",
       "0            DONOR CONTRIBUTIONS  TRUMP MAKE AMERICA GREAT AGAIN COMMITTEE   \n",
       "1  CASH ON HAND FROM 2020 DONORS  TRUMP MAKE AMERICA GREAT AGAIN COMMITTEE   \n",
       "\n",
       "      value  cycle  \n",
       "0  29340023   2022  \n",
       "1  59876405   2022  "
      ]
     },
     "execution_count": 505,
     "metadata": {},
     "output_type": "execute_result"
    }
   ],
   "source": [
    "## 2022\n",
    "# Construct donor inputs based on FEC committee main web page\n",
    "# ($0 IN 2024)\n",
    "inputs = {\n",
    "    \"source\": ['DONOR CONTRIBUTIONS','CASH ON HAND FROM 2020 DONORS'],\n",
    "    \"target\": ['TRUMP MAKE AMERICA GREAT AGAIN COMMITTEE', 'TRUMP MAKE AMERICA GREAT AGAIN COMMITTEE'],\n",
    "    \"value\": [29340023, 59876405],\n",
    "    \"cycle\": [2022, 2022],\n",
    "}\n",
    "\n",
    "pd.DataFrame(inputs)"
   ]
  },
  {
   "cell_type": "code",
   "execution_count": 506,
   "metadata": {},
   "outputs": [],
   "source": [
    "save_csv(pd.DataFrame(inputs))"
   ]
  },
  {
   "cell_type": "code",
   "execution_count": 507,
   "metadata": {},
   "outputs": [
    {
     "data": {
      "text/html": [
       "<div>\n",
       "<style scoped>\n",
       "    .dataframe tbody tr th:only-of-type {\n",
       "        vertical-align: middle;\n",
       "    }\n",
       "\n",
       "    .dataframe tbody tr th {\n",
       "        vertical-align: top;\n",
       "    }\n",
       "\n",
       "    .dataframe thead th {\n",
       "        text-align: right;\n",
       "    }\n",
       "</style>\n",
       "<table border=\"1\" class=\"dataframe\">\n",
       "  <thead>\n",
       "    <tr style=\"text-align: right;\">\n",
       "      <th></th>\n",
       "      <th>source</th>\n",
       "      <th>target</th>\n",
       "      <th>value</th>\n",
       "      <th>cycle</th>\n",
       "    </tr>\n",
       "  </thead>\n",
       "  <tbody>\n",
       "    <tr>\n",
       "      <th>0</th>\n",
       "      <td>TRUMP MAKE AMERICA GREAT AGAIN COMMITTEE</td>\n",
       "      <td>SAVE AMERICA</td>\n",
       "      <td>53848159.42</td>\n",
       "      <td>2022</td>\n",
       "    </tr>\n",
       "    <tr>\n",
       "      <th>1</th>\n",
       "      <td>TRUMP MAKE AMERICA GREAT AGAIN COMMITTEE</td>\n",
       "      <td>REPUBLICAN NATIONAL COMMITTEE</td>\n",
       "      <td>9943010.30</td>\n",
       "      <td>2022</td>\n",
       "    </tr>\n",
       "    <tr>\n",
       "      <th>2</th>\n",
       "      <td>TRUMP MAKE AMERICA GREAT AGAIN COMMITTEE</td>\n",
       "      <td>DONALD J. TRUMP FOR PRESIDENT, INC.</td>\n",
       "      <td>5800133.94</td>\n",
       "      <td>2022</td>\n",
       "    </tr>\n",
       "    <tr>\n",
       "      <th>3</th>\n",
       "      <td>TRUMP MAKE AMERICA GREAT AGAIN COMMITTEE</td>\n",
       "      <td>MAKE AMERICA GREAT AGAIN PAC</td>\n",
       "      <td>2624404.29</td>\n",
       "      <td>2022</td>\n",
       "    </tr>\n",
       "    <tr>\n",
       "      <th>0</th>\n",
       "      <td>TRUMP MAKE AMERICA GREAT AGAIN COMMITTEE</td>\n",
       "      <td>SAVE AMERICA</td>\n",
       "      <td>1022982.15</td>\n",
       "      <td>2024</td>\n",
       "    </tr>\n",
       "  </tbody>\n",
       "</table>\n",
       "</div>"
      ],
      "text/plain": [
       "                                     source  \\\n",
       "0  TRUMP MAKE AMERICA GREAT AGAIN COMMITTEE   \n",
       "1  TRUMP MAKE AMERICA GREAT AGAIN COMMITTEE   \n",
       "2  TRUMP MAKE AMERICA GREAT AGAIN COMMITTEE   \n",
       "3  TRUMP MAKE AMERICA GREAT AGAIN COMMITTEE   \n",
       "0  TRUMP MAKE AMERICA GREAT AGAIN COMMITTEE   \n",
       "\n",
       "                                target        value  cycle  \n",
       "0                         SAVE AMERICA  53848159.42   2022  \n",
       "1        REPUBLICAN NATIONAL COMMITTEE   9943010.30   2022  \n",
       "2  DONALD J. TRUMP FOR PRESIDENT, INC.   5800133.94   2022  \n",
       "3         MAKE AMERICA GREAT AGAIN PAC   2624404.29   2022  \n",
       "0                         SAVE AMERICA   1022982.15   2024  "
      ]
     },
     "execution_count": 507,
     "metadata": {},
     "output_type": "execute_result"
    }
   ],
   "source": [
    "t22 = pd.read_csv('data/TMAGA_JFC-transfers-22.csv')\n",
    "t24 = pd.read_csv('data/TMAGA_JFC-transfers-24.csv')\n",
    "\n",
    "tmaga = pd.concat([\n",
    "    group_format(t22, 'TRUMP MAKE AMERICA GREAT AGAIN COMMITTEE', 2022),\n",
    "    group_format(t24, 'TRUMP MAKE AMERICA GREAT AGAIN COMMITTEE', 2024)\n",
    "])\n",
    "\n",
    "tmaga"
   ]
  },
  {
   "cell_type": "markdown",
   "metadata": {},
   "source": [
    "**NOTE:**\n",
    "\n",
    "Payments listed as being to \"DONALD J. TRUMP FOR PRESIDENT, INC.\" (without \"2024\") are in fact to \"MAKE AMERICA GREAT AGAIN PAC\"!\n",
    "\n",
    "The `disbursement_recipient` field lists recipient as \"DONALD J. TRUMP FOR PRESIDENT, INC.\" -- but this can't be right, because that committee name is actually \"DONALD J. TRUMP FOR PRESIDENT 2024, INC.\"\n",
    "\n",
    "When we look at the recipient committee number, it is the committee number for MAGA PAC."
   ]
  },
  {
   "cell_type": "code",
   "execution_count": 508,
   "metadata": {},
   "outputs": [
    {
     "data": {
      "text/html": [
       "<div>\n",
       "<style scoped>\n",
       "    .dataframe tbody tr th:only-of-type {\n",
       "        vertical-align: middle;\n",
       "    }\n",
       "\n",
       "    .dataframe tbody tr th {\n",
       "        vertical-align: top;\n",
       "    }\n",
       "\n",
       "    .dataframe thead th {\n",
       "        text-align: right;\n",
       "    }\n",
       "</style>\n",
       "<table border=\"1\" class=\"dataframe\">\n",
       "  <thead>\n",
       "    <tr style=\"text-align: right;\">\n",
       "      <th></th>\n",
       "      <th>recipient_name</th>\n",
       "      <th>recipient_committee_id</th>\n",
       "    </tr>\n",
       "  </thead>\n",
       "  <tbody>\n",
       "    <tr>\n",
       "      <th>2</th>\n",
       "      <td>DONALD J. TRUMP FOR PRESIDENT, INC.</td>\n",
       "      <td>C00580100</td>\n",
       "    </tr>\n",
       "    <tr>\n",
       "      <th>3</th>\n",
       "      <td>DONALD J. TRUMP FOR PRESIDENT, INC.</td>\n",
       "      <td>C00580100</td>\n",
       "    </tr>\n",
       "  </tbody>\n",
       "</table>\n",
       "</div>"
      ],
      "text/plain": [
       "                        recipient_name recipient_committee_id\n",
       "2  DONALD J. TRUMP FOR PRESIDENT, INC.              C00580100\n",
       "3  DONALD J. TRUMP FOR PRESIDENT, INC.              C00580100"
      ]
     },
     "execution_count": 508,
     "metadata": {},
     "output_type": "execute_result"
    }
   ],
   "source": [
    "t22.query('recipient_name == \"DONALD J. TRUMP FOR PRESIDENT, INC.\"')\\\n",
    "    [['recipient_name','recipient_committee_id']]"
   ]
  },
  {
   "cell_type": "code",
   "execution_count": 509,
   "metadata": {},
   "outputs": [
    {
     "data": {
      "text/html": [
       "<div>\n",
       "<style scoped>\n",
       "    .dataframe tbody tr th:only-of-type {\n",
       "        vertical-align: middle;\n",
       "    }\n",
       "\n",
       "    .dataframe tbody tr th {\n",
       "        vertical-align: top;\n",
       "    }\n",
       "\n",
       "    .dataframe thead th {\n",
       "        text-align: right;\n",
       "    }\n",
       "</style>\n",
       "<table border=\"1\" class=\"dataframe\">\n",
       "  <thead>\n",
       "    <tr style=\"text-align: right;\">\n",
       "      <th></th>\n",
       "      <th>recipient_name</th>\n",
       "      <th>recipient_committee_id</th>\n",
       "    </tr>\n",
       "  </thead>\n",
       "  <tbody>\n",
       "    <tr>\n",
       "      <th>11</th>\n",
       "      <td>MAKE AMERICA GREAT AGAIN PAC</td>\n",
       "      <td>C00580100</td>\n",
       "    </tr>\n",
       "    <tr>\n",
       "      <th>14</th>\n",
       "      <td>MAKE AMERICA GREAT AGAIN PAC</td>\n",
       "      <td>C00580100</td>\n",
       "    </tr>\n",
       "    <tr>\n",
       "      <th>15</th>\n",
       "      <td>MAKE AMERICA GREAT AGAIN PAC</td>\n",
       "      <td>C00580100</td>\n",
       "    </tr>\n",
       "    <tr>\n",
       "      <th>18</th>\n",
       "      <td>MAKE AMERICA GREAT AGAIN PAC</td>\n",
       "      <td>C00580100</td>\n",
       "    </tr>\n",
       "  </tbody>\n",
       "</table>\n",
       "</div>"
      ],
      "text/plain": [
       "                  recipient_name recipient_committee_id\n",
       "11  MAKE AMERICA GREAT AGAIN PAC              C00580100\n",
       "14  MAKE AMERICA GREAT AGAIN PAC              C00580100\n",
       "15  MAKE AMERICA GREAT AGAIN PAC              C00580100\n",
       "18  MAKE AMERICA GREAT AGAIN PAC              C00580100"
      ]
     },
     "execution_count": 509,
     "metadata": {},
     "output_type": "execute_result"
    }
   ],
   "source": [
    "t22.query('recipient_name == \"MAKE AMERICA GREAT AGAIN PAC\"')\\\n",
    "    [['recipient_name','recipient_committee_id']]"
   ]
  },
  {
   "cell_type": "code",
   "execution_count": 510,
   "metadata": {},
   "outputs": [],
   "source": [
    "# Correct this error:\n",
    "tmaga.loc[tmaga['target'] == \"DONALD J. TRUMP FOR PRESIDENT, INC.\", 'target'] = 'MAKE AMERICA GREAT AGAIN PAC'"
   ]
  },
  {
   "cell_type": "code",
   "execution_count": 511,
   "metadata": {},
   "outputs": [],
   "source": [
    "# We can also drop the entry for RNC transfer because it's not part of legal equation\n",
    "tmaga.drop(\n",
    "    tmaga.query('target == \"REPUBLICAN NATIONAL COMMITTEE\"').index,\n",
    "    inplace=True\n",
    ")"
   ]
  },
  {
   "cell_type": "code",
   "execution_count": 512,
   "metadata": {},
   "outputs": [
    {
     "data": {
      "text/html": [
       "<div>\n",
       "<style scoped>\n",
       "    .dataframe tbody tr th:only-of-type {\n",
       "        vertical-align: middle;\n",
       "    }\n",
       "\n",
       "    .dataframe tbody tr th {\n",
       "        vertical-align: top;\n",
       "    }\n",
       "\n",
       "    .dataframe thead th {\n",
       "        text-align: right;\n",
       "    }\n",
       "</style>\n",
       "<table border=\"1\" class=\"dataframe\">\n",
       "  <thead>\n",
       "    <tr style=\"text-align: right;\">\n",
       "      <th></th>\n",
       "      <th>source</th>\n",
       "      <th>target</th>\n",
       "      <th>value</th>\n",
       "      <th>cycle</th>\n",
       "    </tr>\n",
       "  </thead>\n",
       "  <tbody>\n",
       "    <tr>\n",
       "      <th>0</th>\n",
       "      <td>TRUMP MAKE AMERICA GREAT AGAIN COMMITTEE</td>\n",
       "      <td>SAVE AMERICA</td>\n",
       "      <td>53848159.42</td>\n",
       "      <td>2022</td>\n",
       "    </tr>\n",
       "    <tr>\n",
       "      <th>2</th>\n",
       "      <td>TRUMP MAKE AMERICA GREAT AGAIN COMMITTEE</td>\n",
       "      <td>MAKE AMERICA GREAT AGAIN PAC</td>\n",
       "      <td>5800133.94</td>\n",
       "      <td>2022</td>\n",
       "    </tr>\n",
       "    <tr>\n",
       "      <th>3</th>\n",
       "      <td>TRUMP MAKE AMERICA GREAT AGAIN COMMITTEE</td>\n",
       "      <td>MAKE AMERICA GREAT AGAIN PAC</td>\n",
       "      <td>2624404.29</td>\n",
       "      <td>2022</td>\n",
       "    </tr>\n",
       "    <tr>\n",
       "      <th>0</th>\n",
       "      <td>TRUMP MAKE AMERICA GREAT AGAIN COMMITTEE</td>\n",
       "      <td>SAVE AMERICA</td>\n",
       "      <td>1022982.15</td>\n",
       "      <td>2024</td>\n",
       "    </tr>\n",
       "  </tbody>\n",
       "</table>\n",
       "</div>"
      ],
      "text/plain": [
       "                                     source                        target  \\\n",
       "0  TRUMP MAKE AMERICA GREAT AGAIN COMMITTEE                  SAVE AMERICA   \n",
       "2  TRUMP MAKE AMERICA GREAT AGAIN COMMITTEE  MAKE AMERICA GREAT AGAIN PAC   \n",
       "3  TRUMP MAKE AMERICA GREAT AGAIN COMMITTEE  MAKE AMERICA GREAT AGAIN PAC   \n",
       "0  TRUMP MAKE AMERICA GREAT AGAIN COMMITTEE                  SAVE AMERICA   \n",
       "\n",
       "         value  cycle  \n",
       "0  53848159.42   2022  \n",
       "2   5800133.94   2022  \n",
       "3   2624404.29   2022  \n",
       "0   1022982.15   2024  "
      ]
     },
     "execution_count": 512,
     "metadata": {},
     "output_type": "execute_result"
    }
   ],
   "source": [
    "tmaga"
   ]
  },
  {
   "cell_type": "code",
   "execution_count": 513,
   "metadata": {},
   "outputs": [],
   "source": [
    "# Append corrected version to csv\n",
    "save_csv(tmaga)"
   ]
  },
  {
   "cell_type": "markdown",
   "metadata": {},
   "source": [
    "#### Donald J. Trump for President (official campaign)\n",
    "* Legal spending entity\n",
    "* Paid money to Dhillon law group -- which [helped Trump with Jan 6th subpoenas](https://www.politico.com/news/2022/10/20/trump-taps-firm-jan-6-subpoena-00062758)\n",
    "* We're just interested in outputs linked to legal spend\n",
    "\n",
    "[2022](https://www.fec.gov/data/committee/C00828541/?cycle=2022) |\n",
    "[2024](https://www.fec.gov/data/committee/C00828541/?cycle=2024)\n",
    "\n",
    "Note: 2022 spending on legal fees is negligible (~$20k) so we'll ignore."
   ]
  },
  {
   "cell_type": "code",
   "execution_count": 514,
   "metadata": {},
   "outputs": [],
   "source": [
    "# Function to find sum of disbursements with \"legal\" in description\n",
    "def find_legal_spend(df):\n",
    "    legal_sum = df[df['disbursement_description'].str.contains('Legal', case=False)]\\\n",
    "                ['disbursement_amount'].sum()\n",
    "    return legal_sum"
   ]
  },
  {
   "cell_type": "code",
   "execution_count": 515,
   "metadata": {},
   "outputs": [
    {
     "name": "stderr",
     "output_type": "stream",
     "text": [
      "/var/folders/wg/s1f24q713mb0h5lcj__zsrh1jz45r8/T/ipykernel_73375/966710456.py:1: DtypeWarning: Columns (66,73) have mixed types. Specify dtype option on import or set low_memory=False.\n",
      "  df = pd.read_csv('data/DJT4P-disbursements-24.csv')\n"
     ]
    }
   ],
   "source": [
    "df = pd.read_csv('data/DJT4P-disbursements-24.csv')"
   ]
  },
  {
   "cell_type": "code",
   "execution_count": 516,
   "metadata": {},
   "outputs": [
    {
     "data": {
      "text/plain": [
       "48974241.73"
      ]
     },
     "execution_count": 516,
     "metadata": {},
     "output_type": "execute_result"
    }
   ],
   "source": [
    "# Find how much total\n",
    "df['disbursement_amount'].sum()"
   ]
  },
  {
   "cell_type": "code",
   "execution_count": 517,
   "metadata": {},
   "outputs": [],
   "source": [
    "# Find how much spent on legal\n",
    "fees = find_legal_spend(df)"
   ]
  },
  {
   "cell_type": "code",
   "execution_count": 518,
   "metadata": {},
   "outputs": [
    {
     "data": {
      "text/plain": [
       "4598734.550000001"
      ]
     },
     "execution_count": 518,
     "metadata": {},
     "output_type": "execute_result"
    }
   ],
   "source": [
    "fees"
   ]
  },
  {
   "cell_type": "code",
   "execution_count": 519,
   "metadata": {},
   "outputs": [
    {
     "data": {
      "text/html": [
       "<div>\n",
       "<style scoped>\n",
       "    .dataframe tbody tr th:only-of-type {\n",
       "        vertical-align: middle;\n",
       "    }\n",
       "\n",
       "    .dataframe tbody tr th {\n",
       "        vertical-align: top;\n",
       "    }\n",
       "\n",
       "    .dataframe thead th {\n",
       "        text-align: right;\n",
       "    }\n",
       "</style>\n",
       "<table border=\"1\" class=\"dataframe\">\n",
       "  <thead>\n",
       "    <tr style=\"text-align: right;\">\n",
       "      <th></th>\n",
       "      <th>source</th>\n",
       "      <th>target</th>\n",
       "      <th>value</th>\n",
       "      <th>cycle</th>\n",
       "    </tr>\n",
       "  </thead>\n",
       "  <tbody>\n",
       "    <tr>\n",
       "      <th>0</th>\n",
       "      <td>DONALD J. TRUMP FOR PRESIDENT 2024, INC.</td>\n",
       "      <td>LEGAL FEES</td>\n",
       "      <td>4598734.55</td>\n",
       "      <td>2024</td>\n",
       "    </tr>\n",
       "  </tbody>\n",
       "</table>\n",
       "</div>"
      ],
      "text/plain": [
       "                                     source      target       value  cycle\n",
       "0  DONALD J. TRUMP FOR PRESIDENT 2024, INC.  LEGAL FEES  4598734.55   2024"
      ]
     },
     "execution_count": 519,
     "metadata": {},
     "output_type": "execute_result"
    }
   ],
   "source": [
    "# Construct legal spend\n",
    "legal = {\n",
    "    \"source\": ['DONALD J. TRUMP FOR PRESIDENT 2024, INC.'],\n",
    "    \"target\": ['LEGAL FEES'],\n",
    "    \"value\": [fees],\n",
    "    \"cycle\": [2024],\n",
    "}\n",
    "\n",
    "pd.DataFrame(legal)"
   ]
  },
  {
   "cell_type": "code",
   "execution_count": 520,
   "metadata": {},
   "outputs": [],
   "source": [
    "save_csv(pd.DataFrame(legal))"
   ]
  },
  {
   "cell_type": "markdown",
   "metadata": {},
   "source": [
    "#### Save America PAC\n",
    "* Save America is a legal spending entity\n",
    "* We also need to track its transfers, because of the back-and-forth with MAGA Inc.\n",
    "\n",
    "[2022](https://www.fec.gov/data/committee/C00762591/?cycle=2022) |\n",
    "[2024](https://www.fec.gov/data/committee/C00762591/?cycle=2024)"
   ]
  },
  {
   "cell_type": "code",
   "execution_count": 521,
   "metadata": {},
   "outputs": [
    {
     "data": {
      "text/html": [
       "<div>\n",
       "<style scoped>\n",
       "    .dataframe tbody tr th:only-of-type {\n",
       "        vertical-align: middle;\n",
       "    }\n",
       "\n",
       "    .dataframe tbody tr th {\n",
       "        vertical-align: top;\n",
       "    }\n",
       "\n",
       "    .dataframe thead th {\n",
       "        text-align: right;\n",
       "    }\n",
       "</style>\n",
       "<table border=\"1\" class=\"dataframe\">\n",
       "  <thead>\n",
       "    <tr style=\"text-align: right;\">\n",
       "      <th></th>\n",
       "      <th>source</th>\n",
       "      <th>target</th>\n",
       "      <th>value</th>\n",
       "      <th>cycle</th>\n",
       "    </tr>\n",
       "  </thead>\n",
       "  <tbody>\n",
       "    <tr>\n",
       "      <th>0</th>\n",
       "      <td>DONOR CONTRIBUTIONS</td>\n",
       "      <td>SAVE AMERICA</td>\n",
       "      <td>1176252</td>\n",
       "      <td>2022</td>\n",
       "    </tr>\n",
       "  </tbody>\n",
       "</table>\n",
       "</div>"
      ],
      "text/plain": [
       "                source        target    value  cycle\n",
       "0  DONOR CONTRIBUTIONS  SAVE AMERICA  1176252   2022"
      ]
     },
     "execution_count": 521,
     "metadata": {},
     "output_type": "execute_result"
    }
   ],
   "source": [
    "# Construct donor inputs (we're going to ignore 2024 as only $80k)\n",
    "inputs = {\n",
    "    \"source\": ['DONOR CONTRIBUTIONS'],\n",
    "    \"target\": ['SAVE AMERICA'],\n",
    "    \"value\": [1176252],\n",
    "    \"cycle\": [2022],\n",
    "}\n",
    "\n",
    "pd.DataFrame(inputs)"
   ]
  },
  {
   "cell_type": "code",
   "execution_count": 522,
   "metadata": {},
   "outputs": [],
   "source": [
    "save_csv(pd.DataFrame(inputs))"
   ]
  },
  {
   "cell_type": "code",
   "execution_count": 523,
   "metadata": {},
   "outputs": [],
   "source": [
    "d22 = pd.read_csv('data/SAVEAM-disbursements-22.csv')\n",
    "d24 = pd.read_csv('data/SAVEAM-disbursements-24.csv')\n",
    "\n",
    "l22 = find_legal_spend(d22)\n",
    "l24 = find_legal_spend(d24)"
   ]
  },
  {
   "cell_type": "code",
   "execution_count": 524,
   "metadata": {},
   "outputs": [
    {
     "data": {
      "text/html": [
       "<div>\n",
       "<style scoped>\n",
       "    .dataframe tbody tr th:only-of-type {\n",
       "        vertical-align: middle;\n",
       "    }\n",
       "\n",
       "    .dataframe tbody tr th {\n",
       "        vertical-align: top;\n",
       "    }\n",
       "\n",
       "    .dataframe thead th {\n",
       "        text-align: right;\n",
       "    }\n",
       "</style>\n",
       "<table border=\"1\" class=\"dataframe\">\n",
       "  <thead>\n",
       "    <tr style=\"text-align: right;\">\n",
       "      <th></th>\n",
       "      <th>source</th>\n",
       "      <th>target</th>\n",
       "      <th>value</th>\n",
       "      <th>cycle</th>\n",
       "    </tr>\n",
       "  </thead>\n",
       "  <tbody>\n",
       "    <tr>\n",
       "      <th>0</th>\n",
       "      <td>SAVE AMERICA</td>\n",
       "      <td>LEGAL FEES</td>\n",
       "      <td>16708721.85</td>\n",
       "      <td>2022</td>\n",
       "    </tr>\n",
       "    <tr>\n",
       "      <th>1</th>\n",
       "      <td>SAVE AMERICA</td>\n",
       "      <td>LEGAL FEES</td>\n",
       "      <td>47298633.28</td>\n",
       "      <td>2024</td>\n",
       "    </tr>\n",
       "  </tbody>\n",
       "</table>\n",
       "</div>"
      ],
      "text/plain": [
       "         source      target        value  cycle\n",
       "0  SAVE AMERICA  LEGAL FEES  16708721.85   2022\n",
       "1  SAVE AMERICA  LEGAL FEES  47298633.28   2024"
      ]
     },
     "execution_count": 524,
     "metadata": {},
     "output_type": "execute_result"
    }
   ],
   "source": [
    "# Construct legal spend\n",
    "legal = {\n",
    "    \"source\": ['SAVE AMERICA', 'SAVE AMERICA'],\n",
    "    \"target\": ['LEGAL FEES', 'LEGAL FEES'],\n",
    "    \"value\": [l22,l24],\n",
    "    \"cycle\": [2022,2024],\n",
    "}\n",
    "\n",
    "pd.DataFrame(legal)"
   ]
  },
  {
   "cell_type": "code",
   "execution_count": 525,
   "metadata": {},
   "outputs": [],
   "source": [
    "save_csv(pd.DataFrame(legal))"
   ]
  },
  {
   "cell_type": "markdown",
   "metadata": {},
   "source": [
    "SAVE AMERICA PAC TRANSFERS:"
   ]
  },
  {
   "cell_type": "code",
   "execution_count": 526,
   "metadata": {},
   "outputs": [
    {
     "data": {
      "text/html": [
       "<div>\n",
       "<style scoped>\n",
       "    .dataframe tbody tr th:only-of-type {\n",
       "        vertical-align: middle;\n",
       "    }\n",
       "\n",
       "    .dataframe tbody tr th {\n",
       "        vertical-align: top;\n",
       "    }\n",
       "\n",
       "    .dataframe thead th {\n",
       "        text-align: right;\n",
       "    }\n",
       "</style>\n",
       "<table border=\"1\" class=\"dataframe\">\n",
       "  <thead>\n",
       "    <tr style=\"text-align: right;\">\n",
       "      <th></th>\n",
       "      <th>source</th>\n",
       "      <th>target</th>\n",
       "      <th>value</th>\n",
       "      <th>cycle</th>\n",
       "    </tr>\n",
       "  </thead>\n",
       "  <tbody>\n",
       "    <tr>\n",
       "      <th>0</th>\n",
       "      <td>SAVE AMERICA</td>\n",
       "      <td>MAKE AMERICA GREAT AGAIN INC.</td>\n",
       "      <td>60004750.0</td>\n",
       "      <td>2022</td>\n",
       "    </tr>\n",
       "    <tr>\n",
       "      <th>1</th>\n",
       "      <td>SAVE AMERICA</td>\n",
       "      <td>GET GEORGIA RIGHT PAC</td>\n",
       "      <td>1500000.0</td>\n",
       "      <td>2022</td>\n",
       "    </tr>\n",
       "    <tr>\n",
       "      <th>2</th>\n",
       "      <td>SAVE AMERICA</td>\n",
       "      <td>OUR AMERICAN CENTURY</td>\n",
       "      <td>1000000.0</td>\n",
       "      <td>2022</td>\n",
       "    </tr>\n",
       "    <tr>\n",
       "      <th>3</th>\n",
       "      <td>SAVE AMERICA</td>\n",
       "      <td>AMERICAN LEADERSHIP ACTION</td>\n",
       "      <td>1000000.0</td>\n",
       "      <td>2022</td>\n",
       "    </tr>\n",
       "    <tr>\n",
       "      <th>4</th>\n",
       "      <td>SAVE AMERICA</td>\n",
       "      <td>WYOMING VALUES</td>\n",
       "      <td>650000.0</td>\n",
       "      <td>2022</td>\n",
       "    </tr>\n",
       "    <tr>\n",
       "      <th>...</th>\n",
       "      <td>...</td>\n",
       "      <td>...</td>\n",
       "      <td>...</td>\n",
       "      <td>...</td>\n",
       "    </tr>\n",
       "    <tr>\n",
       "      <th>155</th>\n",
       "      <td>SAVE AMERICA</td>\n",
       "      <td>GREENE FOR CONGRESS</td>\n",
       "      <td>5000.0</td>\n",
       "      <td>2022</td>\n",
       "    </tr>\n",
       "    <tr>\n",
       "      <th>156</th>\n",
       "      <td>SAVE AMERICA</td>\n",
       "      <td>GREG PENCE FOR CONGRESS</td>\n",
       "      <td>5000.0</td>\n",
       "      <td>2022</td>\n",
       "    </tr>\n",
       "    <tr>\n",
       "      <th>157</th>\n",
       "      <td>SAVE AMERICA</td>\n",
       "      <td>GREG STEUBE FOR CONGRESS</td>\n",
       "      <td>5000.0</td>\n",
       "      <td>2022</td>\n",
       "    </tr>\n",
       "    <tr>\n",
       "      <th>158</th>\n",
       "      <td>SAVE AMERICA</td>\n",
       "      <td>ZINKE FOR CONGRESS</td>\n",
       "      <td>5000.0</td>\n",
       "      <td>2022</td>\n",
       "    </tr>\n",
       "    <tr>\n",
       "      <th>0</th>\n",
       "      <td>SAVE AMERICA</td>\n",
       "      <td>MAKE AMERICA GREAT AGAIN PAC</td>\n",
       "      <td>11750000.0</td>\n",
       "      <td>2024</td>\n",
       "    </tr>\n",
       "  </tbody>\n",
       "</table>\n",
       "<p>160 rows × 4 columns</p>\n",
       "</div>"
      ],
      "text/plain": [
       "           source                         target       value  cycle\n",
       "0    SAVE AMERICA  MAKE AMERICA GREAT AGAIN INC.  60004750.0   2022\n",
       "1    SAVE AMERICA          GET GEORGIA RIGHT PAC   1500000.0   2022\n",
       "2    SAVE AMERICA           OUR AMERICAN CENTURY   1000000.0   2022\n",
       "3    SAVE AMERICA     AMERICAN LEADERSHIP ACTION   1000000.0   2022\n",
       "4    SAVE AMERICA                 WYOMING VALUES    650000.0   2022\n",
       "..            ...                            ...         ...    ...\n",
       "155  SAVE AMERICA            GREENE FOR CONGRESS      5000.0   2022\n",
       "156  SAVE AMERICA        GREG PENCE FOR CONGRESS      5000.0   2022\n",
       "157  SAVE AMERICA       GREG STEUBE FOR CONGRESS      5000.0   2022\n",
       "158  SAVE AMERICA             ZINKE FOR CONGRESS      5000.0   2022\n",
       "0    SAVE AMERICA   MAKE AMERICA GREAT AGAIN PAC  11750000.0   2024\n",
       "\n",
       "[160 rows x 4 columns]"
      ]
     },
     "execution_count": 526,
     "metadata": {},
     "output_type": "execute_result"
    }
   ],
   "source": [
    "df22 = pd.read_csv('data/SAVEAM-transfers-22.csv')\n",
    "df24 = pd.read_csv('data/SAVEAM-transfers-24.csv')\n",
    "\n",
    "pd.concat([\n",
    "    group_format(df22, 'SAVE AMERICA', 2022),\n",
    "    group_format(df24, 'SAVE AMERICA', 2024)\n",
    "])"
   ]
  },
  {
   "cell_type": "markdown",
   "metadata": {},
   "source": [
    "The PAC made lots of small transfers to organizations we're not interested in, so we'll filter them out by setting a 2 million dollar floor to the transfer value."
   ]
  },
  {
   "cell_type": "code",
   "execution_count": 527,
   "metadata": {},
   "outputs": [
    {
     "data": {
      "text/html": [
       "<div>\n",
       "<style scoped>\n",
       "    .dataframe tbody tr th:only-of-type {\n",
       "        vertical-align: middle;\n",
       "    }\n",
       "\n",
       "    .dataframe tbody tr th {\n",
       "        vertical-align: top;\n",
       "    }\n",
       "\n",
       "    .dataframe thead th {\n",
       "        text-align: right;\n",
       "    }\n",
       "</style>\n",
       "<table border=\"1\" class=\"dataframe\">\n",
       "  <thead>\n",
       "    <tr style=\"text-align: right;\">\n",
       "      <th></th>\n",
       "      <th>source</th>\n",
       "      <th>target</th>\n",
       "      <th>value</th>\n",
       "      <th>cycle</th>\n",
       "    </tr>\n",
       "  </thead>\n",
       "  <tbody>\n",
       "    <tr>\n",
       "      <th>0</th>\n",
       "      <td>SAVE AMERICA</td>\n",
       "      <td>MAKE AMERICA GREAT AGAIN INC.</td>\n",
       "      <td>60004750.0</td>\n",
       "      <td>2022</td>\n",
       "    </tr>\n",
       "    <tr>\n",
       "      <th>0</th>\n",
       "      <td>SAVE AMERICA</td>\n",
       "      <td>MAKE AMERICA GREAT AGAIN PAC</td>\n",
       "      <td>11750000.0</td>\n",
       "      <td>2024</td>\n",
       "    </tr>\n",
       "  </tbody>\n",
       "</table>\n",
       "</div>"
      ],
      "text/plain": [
       "         source                         target       value  cycle\n",
       "0  SAVE AMERICA  MAKE AMERICA GREAT AGAIN INC.  60004750.0   2022\n",
       "0  SAVE AMERICA   MAKE AMERICA GREAT AGAIN PAC  11750000.0   2024"
      ]
     },
     "execution_count": 527,
     "metadata": {},
     "output_type": "execute_result"
    }
   ],
   "source": [
    "sap = pd.concat([group_format(df22, 'SAVE AMERICA', 2022),\n",
    "           group_format(df24, 'SAVE AMERICA', 2024)])\\\n",
    "            .query('value > 2000000')\n",
    "\n",
    "sap"
   ]
  },
  {
   "cell_type": "code",
   "execution_count": 528,
   "metadata": {},
   "outputs": [],
   "source": [
    "save_csv(sap)"
   ]
  },
  {
   "cell_type": "markdown",
   "metadata": {},
   "source": [
    "#### MAGA PAC\n",
    "\n",
    "[2022](https://www.fec.gov/data/committee/C00580100/?cycle=2022) |\n",
    "[2024](https://www.fec.gov/data/committee/C00580100/?cycle=2024)\n",
    "\n",
    "* MAGA PAC receives money from sources we have already tracked above\n",
    "* It does not make transfers to affiliated committees\n",
    "* For unknown reasons on FEC committee page we see that it records some spending as the standard \"operating expenditures\" and some spending as \"other disbursements\", but we can export all of them together."
   ]
  },
  {
   "cell_type": "code",
   "execution_count": 529,
   "metadata": {},
   "outputs": [
    {
     "data": {
      "text/html": [
       "<div>\n",
       "<style scoped>\n",
       "    .dataframe tbody tr th:only-of-type {\n",
       "        vertical-align: middle;\n",
       "    }\n",
       "\n",
       "    .dataframe tbody tr th {\n",
       "        vertical-align: top;\n",
       "    }\n",
       "\n",
       "    .dataframe thead th {\n",
       "        text-align: right;\n",
       "    }\n",
       "</style>\n",
       "<table border=\"1\" class=\"dataframe\">\n",
       "  <thead>\n",
       "    <tr style=\"text-align: right;\">\n",
       "      <th></th>\n",
       "      <th>source</th>\n",
       "      <th>target</th>\n",
       "      <th>value</th>\n",
       "      <th>cycle</th>\n",
       "    </tr>\n",
       "  </thead>\n",
       "  <tbody>\n",
       "    <tr>\n",
       "      <th>0</th>\n",
       "      <td>MAKE AMERICA GREAT AGAIN PAC</td>\n",
       "      <td>LEGAL FEES</td>\n",
       "      <td>15661508.08</td>\n",
       "      <td>2022</td>\n",
       "    </tr>\n",
       "    <tr>\n",
       "      <th>1</th>\n",
       "      <td>MAKE AMERICA GREAT AGAIN PAC</td>\n",
       "      <td>LEGAL FEES</td>\n",
       "      <td>3915674.22</td>\n",
       "      <td>2024</td>\n",
       "    </tr>\n",
       "  </tbody>\n",
       "</table>\n",
       "</div>"
      ],
      "text/plain": [
       "                         source      target        value  cycle\n",
       "0  MAKE AMERICA GREAT AGAIN PAC  LEGAL FEES  15661508.08   2022\n",
       "1  MAKE AMERICA GREAT AGAIN PAC  LEGAL FEES   3915674.22   2024"
      ]
     },
     "execution_count": 529,
     "metadata": {},
     "output_type": "execute_result"
    }
   ],
   "source": [
    "d22 = pd.read_csv('data/MAGA_PAC-disbursements-22.csv')\n",
    "d24 = pd.read_csv('data/MAGA_PAC-disbursements-24.csv')\n",
    "\n",
    "l22 = find_legal_spend(d22)\n",
    "l24 = find_legal_spend(d24)\n",
    "\n",
    "legal = {\n",
    "    \"source\": ['MAKE AMERICA GREAT AGAIN PAC','MAKE AMERICA GREAT AGAIN PAC'],\n",
    "    \"target\": ['LEGAL FEES', 'LEGAL FEES'],\n",
    "    \"value\": [l22,l24],\n",
    "    \"cycle\": [2022,2024],\n",
    "}\n",
    "\n",
    "pd.DataFrame(legal)"
   ]
  },
  {
   "cell_type": "code",
   "execution_count": 530,
   "metadata": {},
   "outputs": [],
   "source": [
    "save_csv(pd.DataFrame(legal))"
   ]
  },
  {
   "cell_type": "markdown",
   "metadata": {},
   "source": [
    "#### MAGA INC.\n",
    "\n",
    "[2022](https://www.fec.gov/data/committee/C00825851/?cycle=2022) |\n",
    "[2024](https://www.fec.gov/data/committee/C00825851/?cycle=2024)\n",
    "\n",
    "* MAGA INC is a super PAC. It receives money from lots of sources, and spends almost all of it on media ads which is what we would expect\n",
    "* We're only interested in the $60M transfer it received from Save America in '22 cycle (already tracked) and the refund it made in '23\n",
    "* We can use the top-line figure from the committee homepage of $42.25 million committee refunds. (For some reason these are not properly recorded under MAGA Inc. transfers, but individual payments can be found by looking at Save America's receipts - and total $42.25M)"
   ]
  },
  {
   "cell_type": "code",
   "execution_count": 531,
   "metadata": {},
   "outputs": [],
   "source": [
    "rf = pd.read_csv('data/SAVEAM-refunds.csv')"
   ]
  },
  {
   "cell_type": "code",
   "execution_count": 532,
   "metadata": {},
   "outputs": [
    {
     "data": {
      "text/plain": [
       "-42250000.0"
      ]
     },
     "execution_count": 532,
     "metadata": {},
     "output_type": "execute_result"
    }
   ],
   "source": [
    "rf['contribution_receipt_amount'].sum()"
   ]
  },
  {
   "cell_type": "code",
   "execution_count": 533,
   "metadata": {},
   "outputs": [
    {
     "data": {
      "text/html": [
       "<div>\n",
       "<style scoped>\n",
       "    .dataframe tbody tr th:only-of-type {\n",
       "        vertical-align: middle;\n",
       "    }\n",
       "\n",
       "    .dataframe tbody tr th {\n",
       "        vertical-align: top;\n",
       "    }\n",
       "\n",
       "    .dataframe thead th {\n",
       "        text-align: right;\n",
       "    }\n",
       "</style>\n",
       "<table border=\"1\" class=\"dataframe\">\n",
       "  <thead>\n",
       "    <tr style=\"text-align: right;\">\n",
       "      <th></th>\n",
       "      <th>source</th>\n",
       "      <th>target</th>\n",
       "      <th>value</th>\n",
       "      <th>cycle</th>\n",
       "    </tr>\n",
       "  </thead>\n",
       "  <tbody>\n",
       "    <tr>\n",
       "      <th>0</th>\n",
       "      <td>MAKE AMERICA GREAT AGAIN INC.</td>\n",
       "      <td>SAVE AMERICA</td>\n",
       "      <td>42250000</td>\n",
       "      <td>2024</td>\n",
       "    </tr>\n",
       "  </tbody>\n",
       "</table>\n",
       "</div>"
      ],
      "text/plain": [
       "                          source        target     value  cycle\n",
       "0  MAKE AMERICA GREAT AGAIN INC.  SAVE AMERICA  42250000   2024"
      ]
     },
     "execution_count": 533,
     "metadata": {},
     "output_type": "execute_result"
    }
   ],
   "source": [
    "refund = {\n",
    "    \"source\": [\"MAKE AMERICA GREAT AGAIN INC.\"],\n",
    "    \"target\": [\"SAVE AMERICA\"],\n",
    "    \"value\": [42250000],\n",
    "    \"cycle\": [2024]\n",
    "}\n",
    "\n",
    "pd.DataFrame(refund)"
   ]
  },
  {
   "cell_type": "code",
   "execution_count": 534,
   "metadata": {},
   "outputs": [],
   "source": [
    "save_csv(pd.DataFrame(refund))"
   ]
  },
  {
   "cell_type": "markdown",
   "metadata": {},
   "source": [
    "*Todo*:\n",
    "\n",
    "Do we want to track Save America cash in hand, or is that not needed? (It started off with lots of cash in hand but drained so much that it asked for a refund, as NYT reported.)\n",
    "\n",
    "--\n",
    "* Add into Observable - resolve 2022/2024 issues\n",
    "* Write descriptive text about all of this.\n",
    "-> reach out to Frankie or Camille\n",
    "* Upload to GitHub"
   ]
  },
  {
   "cell_type": "markdown",
   "metadata": {},
   "source": [
    "### Formatting for Observable:\n",
    "\n",
    "* The Observable d3 Sankey chart expects columns `source`, `target`, `value`.\n",
    "* We want to also represent `cycle` on the graph, so that spending and transfers from '22 cycle are shown before\n",
    "spending and transfers of '24 cycle.\n",
    "* As a first pass, we will try just appending \"22\" or \"24\" to the end of all source and target entities depending on their cycle."
   ]
  },
  {
   "cell_type": "code",
   "execution_count": 535,
   "metadata": {},
   "outputs": [],
   "source": [
    "df = pd.read_csv('data/trump-legal-spend.csv')"
   ]
  },
  {
   "cell_type": "code",
   "execution_count": 536,
   "metadata": {},
   "outputs": [],
   "source": [
    "ignore_list = ['MAKE AMERICA GREAT AGAIN INC.',\n",
    "               'DONALD J. TRUMP FOR PRESIDENT 2024, INC.',\n",
    "               'TRUMP MAKE AMERICA GREAT AGAIN COMMITTEE',\n",
    "               #'MAKE AMERICA GREAT AGAIN PAC',\n",
    "               'CASH ON HAND FROM 2020 DONORS']"
   ]
  },
  {
   "cell_type": "code",
   "execution_count": 537,
   "metadata": {},
   "outputs": [],
   "source": [
    "def source_append(row):\n",
    "    if row['source'] not in ignore_list:\n",
    "        return row['source'] + ' | ' + str(row['cycle'])\n",
    "    else:\n",
    "        return row['source']\n",
    "\n",
    "def target_append(row):\n",
    "    if row['target'] not in ignore_list:\n",
    "        return row['target'] + ' | ' + str(row['cycle'])\n",
    "    else:\n",
    "        return row['target']"
   ]
  },
  {
   "cell_type": "code",
   "execution_count": 538,
   "metadata": {},
   "outputs": [],
   "source": [
    "df['source'] = df.apply(lambda row: source_append(row), axis=1)\n",
    "df['target'] = df.apply(lambda row: target_append(row), axis=1)"
   ]
  },
  {
   "cell_type": "code",
   "execution_count": 539,
   "metadata": {},
   "outputs": [
    {
     "data": {
      "text/html": [
       "<div>\n",
       "<style scoped>\n",
       "    .dataframe tbody tr th:only-of-type {\n",
       "        vertical-align: middle;\n",
       "    }\n",
       "\n",
       "    .dataframe tbody tr th {\n",
       "        vertical-align: top;\n",
       "    }\n",
       "\n",
       "    .dataframe thead th {\n",
       "        text-align: right;\n",
       "    }\n",
       "</style>\n",
       "<table border=\"1\" class=\"dataframe\">\n",
       "  <thead>\n",
       "    <tr style=\"text-align: right;\">\n",
       "      <th></th>\n",
       "      <th>source</th>\n",
       "      <th>target</th>\n",
       "      <th>value</th>\n",
       "      <th>cycle</th>\n",
       "    </tr>\n",
       "  </thead>\n",
       "  <tbody>\n",
       "    <tr>\n",
       "      <th>0</th>\n",
       "      <td>DONOR CONTRIBUTIONS | 2022</td>\n",
       "      <td>TRUMP SAVE AMERICA JOINT FUNDRAISING COMMITTEE...</td>\n",
       "      <td>1.513260e+08</td>\n",
       "      <td>2022</td>\n",
       "    </tr>\n",
       "    <tr>\n",
       "      <th>1</th>\n",
       "      <td>DONOR CONTRIBUTIONS | 2024</td>\n",
       "      <td>TRUMP SAVE AMERICA JOINT FUNDRAISING COMMITTEE...</td>\n",
       "      <td>1.290210e+08</td>\n",
       "      <td>2024</td>\n",
       "    </tr>\n",
       "    <tr>\n",
       "      <th>2</th>\n",
       "      <td>TRUMP SAVE AMERICA JOINT FUNDRAISING COMMITTEE...</td>\n",
       "      <td>SAVE AMERICA | 2022</td>\n",
       "      <td>5.392576e+07</td>\n",
       "      <td>2022</td>\n",
       "    </tr>\n",
       "    <tr>\n",
       "      <th>3</th>\n",
       "      <td>TRUMP SAVE AMERICA JOINT FUNDRAISING COMMITTEE...</td>\n",
       "      <td>MAKE AMERICA GREAT AGAIN PAC | 2022</td>\n",
       "      <td>5.554688e+06</td>\n",
       "      <td>2022</td>\n",
       "    </tr>\n",
       "    <tr>\n",
       "      <th>4</th>\n",
       "      <td>TRUMP SAVE AMERICA JOINT FUNDRAISING COMMITTEE...</td>\n",
       "      <td>DONALD J. TRUMP FOR PRESIDENT 2024, INC.</td>\n",
       "      <td>3.817781e+06</td>\n",
       "      <td>2022</td>\n",
       "    </tr>\n",
       "    <tr>\n",
       "      <th>5</th>\n",
       "      <td>TRUMP SAVE AMERICA JOINT FUNDRAISING COMMITTEE...</td>\n",
       "      <td>DONALD J. TRUMP FOR PRESIDENT 2024, INC.</td>\n",
       "      <td>7.200800e+07</td>\n",
       "      <td>2024</td>\n",
       "    </tr>\n",
       "    <tr>\n",
       "      <th>6</th>\n",
       "      <td>TRUMP SAVE AMERICA JOINT FUNDRAISING COMMITTEE...</td>\n",
       "      <td>SAVE AMERICA | 2024</td>\n",
       "      <td>8.864399e+06</td>\n",
       "      <td>2024</td>\n",
       "    </tr>\n",
       "    <tr>\n",
       "      <th>7</th>\n",
       "      <td>DONOR CONTRIBUTIONS | 2022</td>\n",
       "      <td>TRUMP MAKE AMERICA GREAT AGAIN COMMITTEE</td>\n",
       "      <td>2.934002e+07</td>\n",
       "      <td>2022</td>\n",
       "    </tr>\n",
       "    <tr>\n",
       "      <th>8</th>\n",
       "      <td>CASH ON HAND FROM 2020 DONORS</td>\n",
       "      <td>TRUMP MAKE AMERICA GREAT AGAIN COMMITTEE</td>\n",
       "      <td>5.987640e+07</td>\n",
       "      <td>2022</td>\n",
       "    </tr>\n",
       "    <tr>\n",
       "      <th>9</th>\n",
       "      <td>TRUMP MAKE AMERICA GREAT AGAIN COMMITTEE</td>\n",
       "      <td>SAVE AMERICA | 2022</td>\n",
       "      <td>5.384816e+07</td>\n",
       "      <td>2022</td>\n",
       "    </tr>\n",
       "    <tr>\n",
       "      <th>10</th>\n",
       "      <td>TRUMP MAKE AMERICA GREAT AGAIN COMMITTEE</td>\n",
       "      <td>MAKE AMERICA GREAT AGAIN PAC | 2022</td>\n",
       "      <td>5.800134e+06</td>\n",
       "      <td>2022</td>\n",
       "    </tr>\n",
       "    <tr>\n",
       "      <th>11</th>\n",
       "      <td>TRUMP MAKE AMERICA GREAT AGAIN COMMITTEE</td>\n",
       "      <td>MAKE AMERICA GREAT AGAIN PAC | 2022</td>\n",
       "      <td>2.624404e+06</td>\n",
       "      <td>2022</td>\n",
       "    </tr>\n",
       "    <tr>\n",
       "      <th>12</th>\n",
       "      <td>TRUMP MAKE AMERICA GREAT AGAIN COMMITTEE</td>\n",
       "      <td>SAVE AMERICA | 2024</td>\n",
       "      <td>1.022982e+06</td>\n",
       "      <td>2024</td>\n",
       "    </tr>\n",
       "    <tr>\n",
       "      <th>13</th>\n",
       "      <td>DONALD J. TRUMP FOR PRESIDENT 2024, INC.</td>\n",
       "      <td>LEGAL FEES | 2024</td>\n",
       "      <td>4.598735e+06</td>\n",
       "      <td>2024</td>\n",
       "    </tr>\n",
       "    <tr>\n",
       "      <th>14</th>\n",
       "      <td>DONOR CONTRIBUTIONS | 2022</td>\n",
       "      <td>SAVE AMERICA | 2022</td>\n",
       "      <td>1.176252e+06</td>\n",
       "      <td>2022</td>\n",
       "    </tr>\n",
       "    <tr>\n",
       "      <th>15</th>\n",
       "      <td>SAVE AMERICA | 2022</td>\n",
       "      <td>LEGAL FEES | 2022</td>\n",
       "      <td>1.670872e+07</td>\n",
       "      <td>2022</td>\n",
       "    </tr>\n",
       "    <tr>\n",
       "      <th>16</th>\n",
       "      <td>SAVE AMERICA | 2024</td>\n",
       "      <td>LEGAL FEES | 2024</td>\n",
       "      <td>4.729863e+07</td>\n",
       "      <td>2024</td>\n",
       "    </tr>\n",
       "    <tr>\n",
       "      <th>17</th>\n",
       "      <td>SAVE AMERICA | 2022</td>\n",
       "      <td>MAKE AMERICA GREAT AGAIN INC.</td>\n",
       "      <td>6.000475e+07</td>\n",
       "      <td>2022</td>\n",
       "    </tr>\n",
       "    <tr>\n",
       "      <th>18</th>\n",
       "      <td>SAVE AMERICA | 2024</td>\n",
       "      <td>MAKE AMERICA GREAT AGAIN PAC | 2024</td>\n",
       "      <td>1.175000e+07</td>\n",
       "      <td>2024</td>\n",
       "    </tr>\n",
       "    <tr>\n",
       "      <th>19</th>\n",
       "      <td>MAKE AMERICA GREAT AGAIN PAC | 2022</td>\n",
       "      <td>LEGAL FEES | 2022</td>\n",
       "      <td>1.566151e+07</td>\n",
       "      <td>2022</td>\n",
       "    </tr>\n",
       "    <tr>\n",
       "      <th>20</th>\n",
       "      <td>MAKE AMERICA GREAT AGAIN PAC | 2024</td>\n",
       "      <td>LEGAL FEES | 2024</td>\n",
       "      <td>3.915674e+06</td>\n",
       "      <td>2024</td>\n",
       "    </tr>\n",
       "    <tr>\n",
       "      <th>21</th>\n",
       "      <td>MAKE AMERICA GREAT AGAIN INC.</td>\n",
       "      <td>SAVE AMERICA | 2024</td>\n",
       "      <td>4.225000e+07</td>\n",
       "      <td>2024</td>\n",
       "    </tr>\n",
       "  </tbody>\n",
       "</table>\n",
       "</div>"
      ],
      "text/plain": [
       "                                               source  \\\n",
       "0                          DONOR CONTRIBUTIONS | 2022   \n",
       "1                          DONOR CONTRIBUTIONS | 2024   \n",
       "2   TRUMP SAVE AMERICA JOINT FUNDRAISING COMMITTEE...   \n",
       "3   TRUMP SAVE AMERICA JOINT FUNDRAISING COMMITTEE...   \n",
       "4   TRUMP SAVE AMERICA JOINT FUNDRAISING COMMITTEE...   \n",
       "5   TRUMP SAVE AMERICA JOINT FUNDRAISING COMMITTEE...   \n",
       "6   TRUMP SAVE AMERICA JOINT FUNDRAISING COMMITTEE...   \n",
       "7                          DONOR CONTRIBUTIONS | 2022   \n",
       "8                       CASH ON HAND FROM 2020 DONORS   \n",
       "9            TRUMP MAKE AMERICA GREAT AGAIN COMMITTEE   \n",
       "10           TRUMP MAKE AMERICA GREAT AGAIN COMMITTEE   \n",
       "11           TRUMP MAKE AMERICA GREAT AGAIN COMMITTEE   \n",
       "12           TRUMP MAKE AMERICA GREAT AGAIN COMMITTEE   \n",
       "13           DONALD J. TRUMP FOR PRESIDENT 2024, INC.   \n",
       "14                         DONOR CONTRIBUTIONS | 2022   \n",
       "15                                SAVE AMERICA | 2022   \n",
       "16                                SAVE AMERICA | 2024   \n",
       "17                                SAVE AMERICA | 2022   \n",
       "18                                SAVE AMERICA | 2024   \n",
       "19                MAKE AMERICA GREAT AGAIN PAC | 2022   \n",
       "20                MAKE AMERICA GREAT AGAIN PAC | 2024   \n",
       "21                      MAKE AMERICA GREAT AGAIN INC.   \n",
       "\n",
       "                                               target         value  cycle  \n",
       "0   TRUMP SAVE AMERICA JOINT FUNDRAISING COMMITTEE...  1.513260e+08   2022  \n",
       "1   TRUMP SAVE AMERICA JOINT FUNDRAISING COMMITTEE...  1.290210e+08   2024  \n",
       "2                                 SAVE AMERICA | 2022  5.392576e+07   2022  \n",
       "3                 MAKE AMERICA GREAT AGAIN PAC | 2022  5.554688e+06   2022  \n",
       "4            DONALD J. TRUMP FOR PRESIDENT 2024, INC.  3.817781e+06   2022  \n",
       "5            DONALD J. TRUMP FOR PRESIDENT 2024, INC.  7.200800e+07   2024  \n",
       "6                                 SAVE AMERICA | 2024  8.864399e+06   2024  \n",
       "7            TRUMP MAKE AMERICA GREAT AGAIN COMMITTEE  2.934002e+07   2022  \n",
       "8            TRUMP MAKE AMERICA GREAT AGAIN COMMITTEE  5.987640e+07   2022  \n",
       "9                                 SAVE AMERICA | 2022  5.384816e+07   2022  \n",
       "10                MAKE AMERICA GREAT AGAIN PAC | 2022  5.800134e+06   2022  \n",
       "11                MAKE AMERICA GREAT AGAIN PAC | 2022  2.624404e+06   2022  \n",
       "12                                SAVE AMERICA | 2024  1.022982e+06   2024  \n",
       "13                                  LEGAL FEES | 2024  4.598735e+06   2024  \n",
       "14                                SAVE AMERICA | 2022  1.176252e+06   2022  \n",
       "15                                  LEGAL FEES | 2022  1.670872e+07   2022  \n",
       "16                                  LEGAL FEES | 2024  4.729863e+07   2024  \n",
       "17                      MAKE AMERICA GREAT AGAIN INC.  6.000475e+07   2022  \n",
       "18                MAKE AMERICA GREAT AGAIN PAC | 2024  1.175000e+07   2024  \n",
       "19                                  LEGAL FEES | 2022  1.566151e+07   2022  \n",
       "20                                  LEGAL FEES | 2024  3.915674e+06   2024  \n",
       "21                                SAVE AMERICA | 2024  4.225000e+07   2024  "
      ]
     },
     "execution_count": 539,
     "metadata": {},
     "output_type": "execute_result"
    }
   ],
   "source": [
    "df"
   ]
  },
  {
   "cell_type": "code",
   "execution_count": 540,
   "metadata": {},
   "outputs": [],
   "source": [
    "df.to_csv('data/trump-spend-by-cycle-G.csv')"
   ]
  },
  {
   "cell_type": "markdown",
   "metadata": {},
   "source": [
    "Now we use this csv as input for the [Observable notebook](https://observablehq.com/d/56c49c88e84b5de5)\n",
    "\n",
    "(use \"node alignment: center\" for best view)\n"
   ]
  },
  {
   "cell_type": "markdown",
   "metadata": {},
   "source": []
  }
 ],
 "metadata": {
  "kernelspec": {
   "display_name": "data",
   "language": "python",
   "name": "python3"
  },
  "language_info": {
   "codemirror_mode": {
    "name": "ipython",
    "version": 3
   },
   "file_extension": ".py",
   "mimetype": "text/x-python",
   "name": "python",
   "nbconvert_exporter": "python",
   "pygments_lexer": "ipython3",
   "version": "3.11.5"
  }
 },
 "nbformat": 4,
 "nbformat_minor": 2
}
