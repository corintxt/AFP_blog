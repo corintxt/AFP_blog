{
 "cells": [
  {
   "cell_type": "markdown",
   "metadata": {},
   "source": [
    "# What proportion of Trump fundraising goes to legal fees?\n",
    "## How else is donor money being spent, and what organizations does it flow through?\n",
    "\n",
    "Inspiration:\n",
    "* Economist: [Trump's legal fees are draining campaign funds](https://www.economist.com/graphic-detail/2024/02/01/donald-trumps-legal-fees-are-draining-his-campaign-funds)\n",
    "* NYT: [Trump's PACs spent $50 million on legal expenses](https://www.nytimes.com/2024/01/30/us/politics/trump-legal-fees.html)\n",
    "\n",
    "Goal:\n",
    "* To produce an [alluvial diagram](https://flourish.studio/blog/animating-sankey-visualisations/) showing inputs from donors, pass-through organizatinos in the middle, and spending items at the end.\n",
    "\n",
    "Data structure:\n",
    "* Data should always be in *long format*. Columns labelled `source` and `target` indicate flow; for a multi-stage chart, columns labelled `Step from` and `Step to` indicate the stage.\n",
    "\n",
    "So our data should roughly look like:\n",
    "\n",
    "| Source    | Target | Amount | Step from | Step to |\n",
    "| -------- | ------- | -------- | -------| -------- |\n",
    "| Donors | MAGA Inc.   | $100   | 0     | 1     \n",
    "| Maga Inc. | Save America     | $50 | 1 | 2\n",
    "| Save America  | Legal fees  | $45 | 2 | 3\n",
    "\n",
    "Another option is to use [Mike Bostock's Sankey chart component](https://observablehq.com/d/56c49c88e84b5de5) on Observable. This might be better for getting a clean and customizable SVG.\n",
    "\n",
    "### Questions:\n",
    "* How much money have Trump-affiliated entities (not including super PAC) raised this cycle?\n",
    "* How is this money transferred between entities?\n",
    "* How much of the money is spent on legal fees?\n",
    "* What are the other main spending categories?\n",
    "\n",
    "-> Note: when tallying fundraising, we must avoid double-counting money raised by one entity then transferred to another, which then also registers this as money raised."
   ]
  },
  {
   "cell_type": "markdown",
   "metadata": {},
   "source": [
    "## Step 1: make a list of entities\n",
    "\n",
    "| Entity    | ID |\n",
    "| -------- | ------- |\n",
    "| Trump Save America JFC | C00770941\n",
    "| Save America PAC | C00762591\n",
    "| MAGA PAC | C00580100\n",
    "| Donald J. Trump for President 2024 | C00828541\n",
    "| MAGA Inc. | C00825851\n",
    "\n",
    "Question: should we include MAGA Inc. in the calculation? Originally, Save America PAC sent it $60 million, but then [asked for a refund](https://www.nytimes.com/2023/07/31/us/politics/trump-pac-filing.html).\n",
    "\n",
    "Initial assumption: we don't need to calculate receipts and disbursements for MAGA Inc. as an entity, but we should look for it in the list of receipts and disbursements for Save America."
   ]
  },
  {
   "cell_type": "markdown",
   "metadata": {},
   "source": [
    "## 2: Identify main disbursements and receipts for all entities\n",
    "\n",
    "For each entity the download URL looks like:\n",
    "\n",
    "https://www.fec.gov/data/receipts/?two_year_transaction_period=2024&data_type=processed&committee_id={ID}\n",
    "\n",
    "https://www.fec.gov/data/disbursements/?two_year_transaction_period=2024&data_type=processed&committee_id={ID}\n",
    "\n",
    "For some of the larger entities -- Trump Save America JFC and Donald J. Trump for President -- we cannot easily export the full list of receipts (both are ~1.5 million rows). But we don't actually need to: we can take the FEC's summary figures from the committee page, and also find the highest value transactions by sorting the data by the amount column, within the web view.\n",
    "\n",
    "### Summary data:\n",
    "\n",
    "[TRUMP SAVE AMERICA JOINT FUNDRAISING COMMITTEE](https://www.fec.gov/data/committee/C00770941/)\n",
    "```\n",
    "TOTAL RECEIPTS\t$129,104,100.34\n",
    "TOTAL CONTRIBUTIONS\t$129,020,950.34\n",
    "Total individual contributions\t$128,925,548.34\n",
    "Itemized individual contributions\t$78,447,317.46\n",
    "Unitemized individual contributions\t$50,478,230.88\n",
    "\n",
    "TOTAL DISBURSEMENTS\t$129,329,597.07\n",
    "OPERATING EXPENDITURES\t$48,306,897.39\n",
    "TRANSFERS TO AFFILIATED COMMITTEES\t$80,872,394.99\n",
    "```\n",
    "\n",
    "[DONALD J. TRUMP FOR PRESIDENT 2024, INC.](https://www.fec.gov/data/committee/C00828541/)\n",
    "```\n",
    "TOTAL RECEIPTS\t$75,811,055.89\n",
    "TOTAL CONTRIBUTIONS\t$503,378.32\n",
    "TRANSFERS FROM OTHER AUTHORIZED COMMITTEES\t$72,008,828.44\n",
    "\n",
    "TOTAL DISBURSEMENTS\t$45,744,016.42\n",
    "OPERATING EXPENDITURES\t$45,742,616.42\n",
    "```\n",
    "[SAVE AMERICA](https://www.fec.gov/data/committee/C00762591/)\n",
    "```\n",
    "TOTAL RECEIPTS\t$52,285,425.36\n",
    "TOTAL CONTRIBUTIONS\t$84,794.36\n",
    "TRANSFERS FROM AFFILIATED COMMITTEES\t$9,889,462.00\n",
    "CANDIDATE REFUNDS\t$42,250,000.00\n",
    "\n",
    "\n",
    "TOTAL DISBURSEMENTS\t$65,409,102.32\n",
    "OPERATING EXPENDITURES\t$53,081,850.72\n",
    "TRANSFERS TO AFFILIATED COMMITTEES\t$11,750,000.00\n",
    "```\n",
    "[MAGA PAC](https://www.fec.gov/data/committee/C00580100/)\n",
    "```\n",
    "TOTAL RECEIPTS\t$12,280,389.65\n",
    "TRANSFERS FROM AFFILIATED COMMITTEES\t$11,750,000.00\n",
    "\n",
    "TOTAL DISBURSEMENTS\t$11,919,311.86\n",
    "OPERATING EXPENDITURES\t$11,908,945.36\n",
    "```\n",
    "---\n",
    "\n",
    "From the above, we can see that the Trump Save America JFC raises money almost entirely from donors. It transferred about two thirds of this money to other committees ($80.9 million), and spent the remaining third on operating expenses.\n",
    "\n",
    "The official presidential campaign, Donald J. Trump for President, receives money almost entirely from committees ($72 million)\n",
    "\n",
    "MAGA Pac has received almost all money from affiliated committees ($11.75 million)\n",
    "\n",
    "Save America has received a mixture of direct transfers ($9.9 million) and \"refunds\" from MAGA Inc. super PAC ($42.25 million).\n"
   ]
  },
  {
   "cell_type": "markdown",
   "metadata": {},
   "source": [
    "### Tracking the refunds\n",
    "\n",
    "We ultimately want to understand where the money came from that Save America is using to pay legal fees. Since this money comes from \"refunds\" from MAGA Inc., we need to go back to the 2021-22 cycle to see what payments were made and where this money came from.\n",
    "\n",
    "In 2021-22, the MAGA Inc. super PAC [received $60 million in payments from Save America](https://www.fec.gov/data/receipts/?committee_id=C00825851&two_year_transaction_period=2022&cycle=2022&line_number=F3X-11C&data_type=processed) according to FEC data. So where did Save America get this money in the first place?\n",
    "\n",
    "[Save America 2021-22](https://www.fec.gov/data/committee/C00762591/?cycle=2022)\n",
    "```\n",
    "TOTAL RECEIPTS\t$109,290,510.18\n",
    "TOTAL CONTRIBUTIONS\t$1,176,252.90\n",
    "TRANSFERS FROM AFFILIATED COMMITTEES\t$108,035,602.57\n",
    "\n",
    "TOTAL DISBURSEMENTS\t$122,196,336.99\n",
    "OPERATING EXPENDITURES\t$50,334,016.22\n",
    "CONTRIBUTIONS TO OTHER COMMITTEES\t$65,255,000.00\n",
    "OTHER DISBURSEMENTS\t$6,606,500.00\n",
    "\n",
    "BEGINNING CASH ON HAND\t$31,169,635.10\n",
    "ENDING CASH ON HAND\t$18,263,773.75\n",
    "```\n",
    "\n",
    "If we look at Save America's itemized [receipts for 2021-22](https://www.fec.gov/data/receipts/?cycle=2022&data_type=processed&committee_id=C00762591&two_year_transaction_period=2022) and sort by highest amount, we see that all top donations came from fundraising committees. \n",
    "\n",
    "List of top donors: `data/Save_America_PAC_top_donors-2021-2.csv`\n",
    "\n",
    "Some donations were from the Trump Save America JFC, which is still Trump's main JFC. Other large donations came from Trump Make America Great Again Committee, which was Trump's JFC for the 2020 election.\n",
    "\n",
    "In the 2020 election cycle the Trump Make America Great Again Committee [raised $883.7 million in individual contributions](https://www.fec.gov/data/committee/C00618371/?cycle=2020), and ended 2020 with $59.9 million cash on hand. In 2021-22, the Trump Make America Great Again Committee [received $29.3 million in donor payments](https://www.fec.gov/data/committee/C00618371/?cycle=2022), and spent $85 million in total, ending with $4.5 million cash on hand. The lion's share of the $72.2 million transferred to other committees went to Save America.\n",
    "\n",
    "**Conclusion:**\n",
    "\n",
    "We're interested in the 2023-24 cycle. In this cycle, we can list the value of the payment from MAGA Inc. to Save America, and explain that this came from donor money."
   ]
  },
  {
   "cell_type": "markdown",
   "metadata": {},
   "source": [
    "## 3: Calculate inputs and outputs for each entity\n",
    "\n",
    "#### Trump Save America JFC | C00770941\n",
    "```\n",
    "INPUTS:\n",
    "Total individual contributions: $128,925,548.34\n",
    "```\n",
    "```\n",
    "OUTPUTS:\n",
    "```"
   ]
  },
  {
   "cell_type": "code",
   "execution_count": 13,
   "metadata": {},
   "outputs": [],
   "source": [
    "import pandas as pd\n",
    "# Show all columns\n",
    "pd.options.display.max_columns = None"
   ]
  },
  {
   "cell_type": "code",
   "execution_count": 14,
   "metadata": {},
   "outputs": [],
   "source": [
    "tsa = pd.read_csv('data/TRUMP_SAVE_AMERICA_JFC-disbursements.csv')"
   ]
  },
  {
   "cell_type": "code",
   "execution_count": 36,
   "metadata": {},
   "outputs": [
    {
     "data": {
      "text/plain": [
       "disbursement_description\n",
       "TRANSFER OF NET PROCEEDS                                  80872394.99\n",
       "DIRECT MAIL PRINTING & POSTAGE                            10490065.50\n",
       "DIGITAL CONSULTING, ONLINE ADVERTISING & LIST RENTAL      10476686.76\n",
       "MERCHANT MERCHANDISE FEES                                  4944661.19\n",
       "MERCHANT FEES                                              4239584.82\n",
       "DIGITAL CONSULTING, ONLINE ADVERTISING, & LIST RENTAL      3432984.08\n",
       "SMS ADVERTISING                                            3406821.98\n",
       "REIMBURSEMENT: DIGITAL CONSULTING & ONLINE ADVERTISING     2069945.56\n",
       "DATA PROCESSING SERVICES                                   1862975.49\n",
       "COMPLIANCE CONSULTING                                      1120395.75\n",
       "EMAIL SERVICES                                              934223.70\n",
       "LIST RENTAL                                                 694159.05\n",
       "REIMBURSEMENT: EMAIL SERVICES                               500000.00\n",
       "DIRECT MAIL PRINTING, POSTAGE, & LIST RENTAL                436309.45\n",
       "FUNDRAISING SOFTWARE                                        360000.00\n",
       "COMPLIANCE CONSULTING & DATA PROCESSING SERVICES            352608.50\n",
       "FUNDRAISING CONSULTING                                      326477.45\n",
       "MAIL PROCESSING SERVICES                                    298069.56\n",
       "DIGITAL CONSULTING                                          279419.40\n",
       "POSTAGE                                                     271925.00\n",
       "FUNDRAISING CONSULTING & PRINTING EXPENSE                   188526.46\n",
       "CONTRIBUTION REFUND                                         138704.69\n",
       "LEGAL CONSULTING                                            122373.50\n",
       "COLLATERAL: CAPS                                            118461.25\n",
       "CREDIT CARD PAYMENT: SEE ITEMIZATION(S) IF REQUIRED         111757.14\n",
       "Name: disbursement_amount, dtype: float64"
      ]
     },
     "execution_count": 36,
     "metadata": {},
     "output_type": "execute_result"
    }
   ],
   "source": [
    "# Group spending into categories and sum total amount\n",
    "tsa.groupby(['disbursement_description'])['disbursement_amount'].sum()\\\n",
    "    .sort_values(ascending=False).head(25)"
   ]
  },
  {
   "cell_type": "code",
   "execution_count": 38,
   "metadata": {},
   "outputs": [
    {
     "data": {
      "text/plain": [
       "recipient_name\n",
       "DONALD J. TRUMP FOR PRESIDENT 2024, INC.    72007996.40\n",
       "SAVE AMERICA                                 8864398.59\n",
       "Name: disbursement_amount, dtype: float64"
      ]
     },
     "execution_count": 38,
     "metadata": {},
     "output_type": "execute_result"
    }
   ],
   "source": [
    "# Which commmittees received transfers from TSA-JFC and how much?\n",
    "tsa.query('disbursement_description == \"TRANSFER OF NET PROCEEDS\"').groupby('recipient_name')['disbursement_amount'].sum()"
   ]
  },
  {
   "cell_type": "markdown",
   "metadata": {},
   "source": [
    "#### DONALD J. TRUMP FOR PRESIDENT 2024, INC.\n",
    "[C00828541](https://www.fec.gov/data/committee/C00828541/)\n",
    "\n",
    "```\n",
    "INPUTS:\n",
    "TOTAL RECEIPTS\t$75,811,055.89\n",
    "TRANSFERS FROM OTHER AUTHORIZED COMMITTEES\t$72,008,828.44\n",
    "```\n",
    "^ meaning almost all income is from TSA-JFC transfer\n",
    "\n",
    "`OUTPUTS:`"
   ]
  },
  {
   "cell_type": "code",
   "execution_count": 39,
   "metadata": {},
   "outputs": [
    {
     "name": "stderr",
     "output_type": "stream",
     "text": [
      "/var/folders/wg/s1f24q713mb0h5lcj__zsrh1jz45r8/T/ipykernel_20882/4106574286.py:1: DtypeWarning: Columns (66,73) have mixed types. Specify dtype option on import or set low_memory=False.\n",
      "  djt = pd.read_csv('data/DJT_for_PRESIDENT-disbursements.csv')\n"
     ]
    }
   ],
   "source": [
    "djt = pd.read_csv('data/DJT_for_PRESIDENT-disbursements.csv')"
   ]
  },
  {
   "cell_type": "code",
   "execution_count": 40,
   "metadata": {},
   "outputs": [
    {
     "data": {
      "text/plain": [
       "disbursement_description\n",
       "PLACED MEDIA                                                                         9373614.02\n",
       "PAYROLL                                                                              4616184.07\n",
       "TRAVEL: AIR                                                                          4550303.31\n",
       "LEGAL CONSULTING                                                                     4044905.81\n",
       "AUDIO VISUAL SERVICES, EVENT STAGING EXPENSE & TRAVEL EXPENSES                       2616272.66\n",
       "CREDIT CARD PAYMENT: SEE ITEMIZATION(S) IF REQUIRED                                  2393348.40\n",
       "POLITICAL STRATEGY CONSULTING                                                        1816503.23\n",
       "DIGITAL CONSULTING, ONLINE ADVERTISING & LIST RENTAL                                 1783208.05\n",
       "TRAVEL: LODGING                                                                      1236974.35\n",
       "POLLING EXPENSE                                                                       978135.20\n",
       "POLITICAL STRATEGY CONSULTING & TRAVEL EXPENSES                                       873866.25\n",
       "DATA PROCESSING SERVICES                                                              871570.46\n",
       "DIRECT MAIL SERVICES                                                                  852869.00\n",
       "TRAVEL REIMBURSEMENT: SEE ITEMIZATION(S) IF REQUIRED                                  822687.09\n",
       "BALLOT ACCESS FEE                                                                     638125.00\n",
       "EVENT CONSULTING, EVENT STAGING EXPENSE & TRAVEL EXPENSES                             593235.86\n",
       "AUDIO VISUAL SERVICES, EVENT STAGING EXPENSE, SECURITY SERVICES & TRAVEL EXPENSES     591437.07\n",
       "PAYROLL TAXES & WITHHOLDINGS                                                          558968.77\n",
       "AUDIO VISUAL SERVICES & EVENT STAGING EXPENSE                                         549111.51\n",
       "SMS ADVERTISING                                                                       530978.70\n",
       "COMMUNICATIONS CONSULTING                                                             516152.00\n",
       "COMPLIANCE CONSULTING                                                                 500027.15\n",
       "ADVANCE CONSULTING & PER DIEM                                                         450890.64\n",
       "DIGITAL CONSULTING                                                                    442327.61\n",
       "VIDEO PRODUCTION SERVICES                                                             410632.95\n",
       "Name: disbursement_amount, dtype: float64"
      ]
     },
     "execution_count": 40,
     "metadata": {},
     "output_type": "execute_result"
    }
   ],
   "source": [
    "djt.groupby(['disbursement_description'])['disbursement_amount'].sum()\\\n",
    "    .sort_values(ascending=False).head(25)"
   ]
  },
  {
   "cell_type": "markdown",
   "metadata": {},
   "source": [
    "#### SAVE AMERICA PAC\n",
    "[C00762591](https://www.fec.gov/data/committee/C00762591/)\n",
    "\n",
    "```\n",
    "INPUTS:\n",
    "CANDIDATE REFUNDS\t$42,250,000.00 | MAGA INC.\n",
    "TRANSFERS FROM AFFILIATED COMMITTEES\t$9,889,462.00\n",
    "```\n",
    "[Detailed receipts downloaded here](https://www.fec.gov/data/receipts/?cycle=2024&data_type=processed&committee_id=C00762591&two_year_transaction_period=2024&min_amount=10000&line_number=F3X-12), filtered for transactions greater than $10k."
   ]
  },
  {
   "cell_type": "code",
   "execution_count": 47,
   "metadata": {},
   "outputs": [
    {
     "data": {
      "text/plain": [
       "12987243.259999998"
      ]
     },
     "execution_count": 47,
     "metadata": {},
     "output_type": "execute_result"
    }
   ],
   "source": [
    "# Load receipts\n",
    "sa_in = pd.read_csv('data/SAVE_AMERICA_PAC-receipts-10k.csv')\n",
    "\n",
    "# What's the total?\n",
    "sa_in['contribution_receipt_amount'].sum()"
   ]
  },
  {
   "cell_type": "code",
   "execution_count": 48,
   "metadata": {},
   "outputs": [
    {
     "data": {
      "text/plain": [
       "contributor_name\n",
       "TRUMP MAKE AMERICA GREAT AGAIN COMMITTEE                 1022982.15\n",
       "TRUMP MAKE AMERICA GREAT AGAIN COMMITTEE - UNITEMIZED    3099862.52\n",
       "TRUMP SAVE AMERICA JOINT FUNDRAISING COMMITTEE           8864398.59\n",
       "Name: contribution_receipt_amount, dtype: float64"
      ]
     },
     "execution_count": 48,
     "metadata": {},
     "output_type": "execute_result"
    }
   ],
   "source": [
    "sa_in.groupby('contributor_name')['contribution_receipt_amount'].sum()4.1\n"
   ]
  },
  {
   "cell_type": "markdown",
   "metadata": {},
   "source": [
    "It seems like only the itemized figures are included in the transfer total, but why? \n",
    "\n",
    "Looking at the [receipt form](https://docquery.fec.gov/cgi-bin/fecimg/?202310199598633335), it seems like the donor name is listed as \"TRUMP MAKE AMERICA GREAT AGAIN COMMITTEE - UNITEMIZED\", which means the FEC web app is not linking the donation to \"\"TRUMP MAKE AMERICA GREAT AGAIN COMMITTEE\" when calculating the total received from affiliated committees.\n",
    "\n",
    "However it seems likely that this is, in fact, a donation that should be counted as coming from this committee. So we should add the two values together."
   ]
  },
  {
   "cell_type": "code",
   "execution_count": 49,
   "metadata": {},
   "outputs": [
    {
     "data": {
      "text/plain": [
       "4122844.67"
      ]
     },
     "execution_count": 49,
     "metadata": {},
     "output_type": "execute_result"
    }
   ],
   "source": [
    "sa_in[sa_in['contributor_name'].str.contains(\"MAKE AMERICA GREAT AGAIN COMMITTEE\")]\\\n",
    "    ['contribution_receipt_amount'].sum()"
   ]
  },
  {
   "cell_type": "markdown",
   "metadata": {},
   "source": [
    "**Save America outputs**"
   ]
  },
  {
   "cell_type": "code",
   "execution_count": 52,
   "metadata": {},
   "outputs": [],
   "source": [
    "sa_out = pd.read_csv('data/SAVE_AMERICA_PAC-disbursements.csv')"
   ]
  },
  {
   "cell_type": "code",
   "execution_count": 53,
   "metadata": {},
   "outputs": [
    {
     "data": {
      "text/plain": [
       "disbursement_description\n",
       "LEGAL CONSULTING                                                   44029620.11\n",
       "TRANSFER TO AFFILIATED COMMITTEE                                   11750000.00\n",
       "REIMBURSEMENT FOR LEGAL FEES                                        1696578.96\n",
       "PAYROLL                                                             1180296.35\n",
       "REIMBURSEMENT FOR LEGAL EXPENSES                                    1081768.52\n",
       "DATA PROCESSING SERVICES                                             808073.47\n",
       "RESEARCH CONSULTING                                                  696565.31\n",
       "COMPLIANCE CONSULTING                                                670560.00\n",
       "CONTRIBUTION REFUND                                                  565151.60\n",
       "PAYROLL TAXES & WITHHOLDINGS                                         529173.92\n",
       "LEGAL CONSULTING & TRAVEL EXPENSES                                   479265.69\n",
       "TRAVEL: AIR                                                          454828.40\n",
       "STRATEGY CONSULTING                                                  398500.00\n",
       "IT SERVICES                                                          159360.71\n",
       "ADVANCE CONSULTING                                                   152175.00\n",
       "DATA PROCESSING FEES                                                 107536.74\n",
       "COMPLIANCE CONSULTING & DATA PROCESSING SERVICES                      85846.20\n",
       "CREDIT CARD PAYMENT: SEE ITEMIZATION(S) IF REQUIRED                   62721.47\n",
       "AUDIO VISUAL SERVICES, EVENT STAGING EXPENSE, & TRAVEL EXPENSES       62047.23\n",
       "PLACED MEDIA                                                          60000.00\n",
       "INSURANCE                                                             50714.63\n",
       "AUDIO VISUAL SERVICES & CATERING SERVICES                             36328.20\n",
       "CREDIT CARD PAYMENT: SEE ITEMIZATIONS IF REQUIRED                     35683.22\n",
       "TRAVEL: LODGING                                                       28431.39\n",
       "PRINTING & DESIGN SERVICES                                            27259.07\n",
       "Name: disbursement_amount, dtype: float64"
      ]
     },
     "execution_count": 53,
     "metadata": {},
     "output_type": "execute_result"
    }
   ],
   "source": [
    "sa_out.groupby(['disbursement_description'])['disbursement_amount'].sum()\\\n",
    "    .sort_values(ascending=False).head(25)"
   ]
  },
  {
   "cell_type": "markdown",
   "metadata": {},
   "source": [
    "#### MAGA PAC\n",
    "[C00580100](https://www.fec.gov/data/committee/C00580100/)\n",
    "\n",
    "```\n",
    "INPUTS:\n",
    "TOTAL RECEIPTS\t$12,280,389.65\n",
    "TRANSFERS FROM AFFILIATED COMMITTEES\t$11,750,000.00 (from Save America PAC)\n",
    "```\n",
    "\n",
    "```\n",
    "OUTPUTS:\n",
    "TOTAL DISBURSEMENTS\t$11,919,311.86\n",
    "OPERATING EXPENDITURES\t$11,908,945.36\n",
    "```"
   ]
  },
  {
   "cell_type": "code",
   "execution_count": 54,
   "metadata": {},
   "outputs": [],
   "source": [
    "ma_out = pd.read_csv('data/MAGA_PAC-disbursements.csv')"
   ]
  },
  {
   "cell_type": "code",
   "execution_count": 55,
   "metadata": {},
   "outputs": [
    {
     "data": {
      "text/plain": [
       "disbursement_description\n",
       "LEGAL CONSULTING                                        1872159.00\n",
       "DOCUMENT HOSTING AND CONSULTING                         1808991.54\n",
       "REIMBURSEMENT FOR LEGAL FEES                            1409813.77\n",
       "REIMBURSEMENT FOR LEGAL EXPENSES                         405481.20\n",
       "COMPLIANCE CONSULTING                                    220000.00\n",
       "REIMBURSEMENT FOR LEGAL FEES & COMPLIANCE CONSULTING     207364.85\n",
       "TAXES                                                     16615.18\n",
       "REIMBURSEMENT FOR LEGAL FEES & LEGAL EXPENSES             16418.40\n",
       "CREDIT CARD PAYMENT: SEE ITEMIZATION(S) IF REQUIRED       13576.85\n",
       "COMPLIANCE CONSULTING & DATA PROCESSING SERVICES          10192.00\n",
       "ADMINISTRATIVE CONSULTING                                  9800.00\n",
       "AMEX PMT: LEGAL CONSULTING                                 4437.00\n",
       "AMEX PMT: WEB HOSTING SERVICES                             3400.39\n",
       "DATA PROCESSING SERVICES                                   3280.20\n",
       "AMEX PMT: SOFTWARE SERVICES                                3235.50\n",
       "AMEX PMT: SUBSCRIPTIONS                                    1376.25\n",
       "REGISTERED AGENT FEE                                       1122.00\n",
       "AMEX PMT: OFFICE SUPPLIES                                   644.72\n",
       "AMEX PMT: PO BOX RENTAL                                     386.00\n",
       "BANK FEES                                                   253.10\n",
       "COMPLIANCE COSTS                                            210.00\n",
       "AMEX PMT: DELIVERY SERVICES                                  71.49\n",
       "Name: disbursement_amount, dtype: float64"
      ]
     },
     "execution_count": 55,
     "metadata": {},
     "output_type": "execute_result"
    }
   ],
   "source": [
    "ma_out.groupby(['disbursement_description'])['disbursement_amount'].sum()\\\n",
    "    .sort_values(ascending=False).head(25)"
   ]
  },
  {
   "cell_type": "markdown",
   "metadata": {},
   "source": [
    "Sidenote: the company that provides document hosting services, \"2M DOCUMENT MANAGEMENT AND IMAGING, LLC\", is [mentioned in this transcript](https://www.govinfo.gov/content/pkg/GPO-J6-TRANSCRIPT-CTRL0000916072/pdf/GPO-J6-TRANSCRIPT-CTRL0000916072.pdf) of the Jan 6th hearing."
   ]
  },
  {
   "cell_type": "markdown",
   "metadata": {},
   "source": [
    "#### MAGA INC. SUPER PAC\n",
    "[C00825851](https://www.fec.gov/data/committee/C00825851/)\n",
    "\n",
    "```\n",
    "INPUTS:\n",
    "TOTAL RECEIPTS\t$62,448,648.35\n",
    "TOTAL CONTRIBUTIONS\t$59,295,656.71\n",
    "    Total individual contributions\t$58,044,123.65\n",
    "    Other committee contributions\t$1,251,533.06\n",
    "\n",
    "OUTPUTS:\n",
    "TOTAL DISBURSEMENTS\t$93,327,186.42\n",
    "OPERATING EXPENDITURES\t$7,028,492.98\n",
    "INDEPENDENT EXPENDITURES\t$43,818,693.44\n",
    "TOTAL CONTRIBUTION REFUNDS\t$42,350,000.00\n",
    "    Individual refunds\t$100,000.00\n",
    "    Other committee refunds\t$42,250,000.00\n",
    "```\n",
    "\n",
    "So for MAGA Inc., the refund to Save America has been almost as much as it spent on campaign activities in 2023.\n",
    "\n",
    "I'm not sure if we need to show what else MAGA Inc. spent money on, as it's independent expenditure."
   ]
  },
  {
   "cell_type": "markdown",
   "metadata": {},
   "source": [
    "## Test Observable chart\n",
    "[Trump's spending](https://observablehq.com/d/56c49c88e84b5de5)"
   ]
  },
  {
   "cell_type": "markdown",
   "metadata": {},
   "source": []
  }
 ],
 "metadata": {
  "kernelspec": {
   "display_name": "data",
   "language": "python",
   "name": "python3"
  },
  "language_info": {
   "codemirror_mode": {
    "name": "ipython",
    "version": 3
   },
   "file_extension": ".py",
   "mimetype": "text/x-python",
   "name": "python",
   "nbconvert_exporter": "python",
   "pygments_lexer": "ipython3",
   "version": "3.11.5"
  }
 },
 "nbformat": 4,
 "nbformat_minor": 2
}
