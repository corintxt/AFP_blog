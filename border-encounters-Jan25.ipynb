{
 "cells": [
  {
   "cell_type": "markdown",
   "metadata": {},
   "source": [
    "# Immigration\n",
    "## Southwest border encounters"
   ]
  },
  {
   "cell_type": "markdown",
   "metadata": {},
   "source": [
    "## CBP data portal\n",
    "\n",
    "CBP newsroom: [current stats](https://www.cbp.gov/newsroom/stats)\n",
    "\n",
    "CBP newsroom: [historical stats](https://www.cbp.gov/newsroom/stats)\n",
    "\n",
    "---\n",
    "\n",
    "### Southwest land border encounters\n",
    "Sources for chart:\n",
    "[FY2019-2022](https://www.cbp.gov/newsroom/stats/southwest-land-border-encounters-fy22) | \n",
    "[FY2022-2025](https://www.cbp.gov/newsroom/stats/southwest-land-border-encounters)\n",
    "\n",
    "* See also, Pew research: [Border encounters fell sharply in 2024](https://www.pewresearch.org/short-reads/2024/10/01/migrant-encounters-at-u-s-mexico-border-have-fallen-sharply-in-2024/)"
   ]
  },
  {
   "cell_type": "code",
   "execution_count": 1,
   "metadata": {},
   "outputs": [],
   "source": [
    "import matplotlib.pyplot as plt\n",
    "import pandas as pd\n",
    "import afp_style as style\n",
    "plt.style.use('https://storage.googleapis.com/datanode/afpchart.mplstyle')"
   ]
  },
  {
   "cell_type": "code",
   "execution_count": 2,
   "metadata": {},
   "outputs": [],
   "source": [
    "# Load data\n",
    "df22 = pd.read_csv('data/sbo-encounters-fy19-fy22.csv')\n",
    "df25 = pd.read_csv('data/sbo-encounters-fy22-fy25-nov.csv')"
   ]
  },
  {
   "cell_type": "code",
   "execution_count": 3,
   "metadata": {},
   "outputs": [],
   "source": [
    "# Drop everything from Fiscal Year 2022 in FY22-25 data so no overlap\n",
    "df25 = df25.query('`Fiscal Year` != \"2022\"')"
   ]
  },
  {
   "cell_type": "code",
   "execution_count": 4,
   "metadata": {},
   "outputs": [
    {
     "data": {
      "text/html": [
       "<div>\n",
       "<style scoped>\n",
       "    .dataframe tbody tr th:only-of-type {\n",
       "        vertical-align: middle;\n",
       "    }\n",
       "\n",
       "    .dataframe tbody tr th {\n",
       "        vertical-align: top;\n",
       "    }\n",
       "\n",
       "    .dataframe thead th {\n",
       "        text-align: right;\n",
       "    }\n",
       "</style>\n",
       "<table border=\"1\" class=\"dataframe\">\n",
       "  <thead>\n",
       "    <tr style=\"text-align: right;\">\n",
       "      <th></th>\n",
       "      <th>Fiscal Year</th>\n",
       "      <th>Month Grouping</th>\n",
       "      <th>Month (abbv)</th>\n",
       "      <th>Component</th>\n",
       "      <th>Demographic</th>\n",
       "      <th>Citizenship Grouping</th>\n",
       "      <th>Title of Authority</th>\n",
       "      <th>Encounter Type</th>\n",
       "      <th>Encounter Count</th>\n",
       "    </tr>\n",
       "  </thead>\n",
       "  <tbody>\n",
       "    <tr>\n",
       "      <th>636</th>\n",
       "      <td>2023</td>\n",
       "      <td>Remaining</td>\n",
       "      <td>APR</td>\n",
       "      <td>Office of Field Operations</td>\n",
       "      <td>Accompanied Minors</td>\n",
       "      <td>El Salvador</td>\n",
       "      <td>Title 42</td>\n",
       "      <td>Expulsions</td>\n",
       "      <td>2</td>\n",
       "    </tr>\n",
       "    <tr>\n",
       "      <th>637</th>\n",
       "      <td>2023</td>\n",
       "      <td>Remaining</td>\n",
       "      <td>APR</td>\n",
       "      <td>Office of Field Operations</td>\n",
       "      <td>Accompanied Minors</td>\n",
       "      <td>Guatemala</td>\n",
       "      <td>Title 42</td>\n",
       "      <td>Expulsions</td>\n",
       "      <td>6</td>\n",
       "    </tr>\n",
       "    <tr>\n",
       "      <th>638</th>\n",
       "      <td>2023</td>\n",
       "      <td>Remaining</td>\n",
       "      <td>APR</td>\n",
       "      <td>Office of Field Operations</td>\n",
       "      <td>Accompanied Minors</td>\n",
       "      <td>Guatemala</td>\n",
       "      <td>Title 8</td>\n",
       "      <td>Inadmissibles</td>\n",
       "      <td>1</td>\n",
       "    </tr>\n",
       "    <tr>\n",
       "      <th>639</th>\n",
       "      <td>2023</td>\n",
       "      <td>Remaining</td>\n",
       "      <td>APR</td>\n",
       "      <td>Office of Field Operations</td>\n",
       "      <td>Accompanied Minors</td>\n",
       "      <td>Honduras</td>\n",
       "      <td>Title 42</td>\n",
       "      <td>Expulsions</td>\n",
       "      <td>4</td>\n",
       "    </tr>\n",
       "    <tr>\n",
       "      <th>640</th>\n",
       "      <td>2023</td>\n",
       "      <td>Remaining</td>\n",
       "      <td>APR</td>\n",
       "      <td>Office of Field Operations</td>\n",
       "      <td>Accompanied Minors</td>\n",
       "      <td>Honduras</td>\n",
       "      <td>Title 8</td>\n",
       "      <td>Inadmissibles</td>\n",
       "      <td>1</td>\n",
       "    </tr>\n",
       "  </tbody>\n",
       "</table>\n",
       "</div>"
      ],
      "text/plain": [
       "    Fiscal Year Month Grouping Month (abbv)                   Component  \\\n",
       "636        2023      Remaining          APR  Office of Field Operations   \n",
       "637        2023      Remaining          APR  Office of Field Operations   \n",
       "638        2023      Remaining          APR  Office of Field Operations   \n",
       "639        2023      Remaining          APR  Office of Field Operations   \n",
       "640        2023      Remaining          APR  Office of Field Operations   \n",
       "\n",
       "            Demographic Citizenship Grouping Title of Authority  \\\n",
       "636  Accompanied Minors          El Salvador           Title 42   \n",
       "637  Accompanied Minors            Guatemala           Title 42   \n",
       "638  Accompanied Minors            Guatemala            Title 8   \n",
       "639  Accompanied Minors             Honduras           Title 42   \n",
       "640  Accompanied Minors             Honduras            Title 8   \n",
       "\n",
       "    Encounter Type  Encounter Count  \n",
       "636     Expulsions                2  \n",
       "637     Expulsions                6  \n",
       "638  Inadmissibles                1  \n",
       "639     Expulsions                4  \n",
       "640  Inadmissibles                1  "
      ]
     },
     "execution_count": 4,
     "metadata": {},
     "output_type": "execute_result"
    }
   ],
   "source": [
    "df25.head()"
   ]
  },
  {
   "cell_type": "code",
   "execution_count": 5,
   "metadata": {},
   "outputs": [],
   "source": [
    "# Join dataframes\n",
    "df = pd.concat([df22, df25])"
   ]
  },
  {
   "cell_type": "code",
   "execution_count": 6,
   "metadata": {},
   "outputs": [
    {
     "data": {
      "text/html": [
       "<div>\n",
       "<style scoped>\n",
       "    .dataframe tbody tr th:only-of-type {\n",
       "        vertical-align: middle;\n",
       "    }\n",
       "\n",
       "    .dataframe tbody tr th {\n",
       "        vertical-align: top;\n",
       "    }\n",
       "\n",
       "    .dataframe thead th {\n",
       "        text-align: right;\n",
       "    }\n",
       "</style>\n",
       "<table border=\"1\" class=\"dataframe\">\n",
       "  <thead>\n",
       "    <tr style=\"text-align: right;\">\n",
       "      <th></th>\n",
       "      <th>Fiscal Year</th>\n",
       "      <th>Month Grouping</th>\n",
       "      <th>Month (abbv)</th>\n",
       "      <th>Component</th>\n",
       "      <th>Demographic</th>\n",
       "      <th>Citizenship Grouping</th>\n",
       "      <th>Title of Authority</th>\n",
       "      <th>Encounter Type</th>\n",
       "      <th>Encounter Count</th>\n",
       "    </tr>\n",
       "  </thead>\n",
       "  <tbody>\n",
       "    <tr>\n",
       "      <th>0</th>\n",
       "      <td>2019</td>\n",
       "      <td>FYTD</td>\n",
       "      <td>AUG</td>\n",
       "      <td>Office of Field Operations</td>\n",
       "      <td>Accompanied Minors</td>\n",
       "      <td>Guatemala</td>\n",
       "      <td>Title 8</td>\n",
       "      <td>Inadmissibles</td>\n",
       "      <td>0.0</td>\n",
       "    </tr>\n",
       "    <tr>\n",
       "      <th>1</th>\n",
       "      <td>2019</td>\n",
       "      <td>FYTD</td>\n",
       "      <td>DEC</td>\n",
       "      <td>U.S. Border Patrol</td>\n",
       "      <td>FMUA</td>\n",
       "      <td>Honduras</td>\n",
       "      <td>Title 8</td>\n",
       "      <td>Apprehensions</td>\n",
       "      <td>9584.0</td>\n",
       "    </tr>\n",
       "    <tr>\n",
       "      <th>2</th>\n",
       "      <td>2021</td>\n",
       "      <td>FYTD</td>\n",
       "      <td>SEP</td>\n",
       "      <td>Office of Field Operations</td>\n",
       "      <td>Single Adults</td>\n",
       "      <td>Other</td>\n",
       "      <td>Title 8</td>\n",
       "      <td>Inadmissibles</td>\n",
       "      <td>1108.0</td>\n",
       "    </tr>\n",
       "    <tr>\n",
       "      <th>3</th>\n",
       "      <td>2021</td>\n",
       "      <td>FYTD</td>\n",
       "      <td>SEP</td>\n",
       "      <td>Office of Field Operations</td>\n",
       "      <td>Single Adults</td>\n",
       "      <td>Guatemala</td>\n",
       "      <td>Title 8</td>\n",
       "      <td>Inadmissibles</td>\n",
       "      <td>14.0</td>\n",
       "    </tr>\n",
       "    <tr>\n",
       "      <th>4</th>\n",
       "      <td>2019</td>\n",
       "      <td>FYTD</td>\n",
       "      <td>JUN</td>\n",
       "      <td>Office of Field Operations</td>\n",
       "      <td>Single Adults</td>\n",
       "      <td>Honduras</td>\n",
       "      <td>Title 8</td>\n",
       "      <td>Inadmissibles</td>\n",
       "      <td>87.0</td>\n",
       "    </tr>\n",
       "  </tbody>\n",
       "</table>\n",
       "</div>"
      ],
      "text/plain": [
       "  Fiscal Year Month Grouping Month (abbv)                   Component  \\\n",
       "0        2019           FYTD          AUG  Office of Field Operations   \n",
       "1        2019           FYTD          DEC          U.S. Border Patrol   \n",
       "2        2021           FYTD          SEP  Office of Field Operations   \n",
       "3        2021           FYTD          SEP  Office of Field Operations   \n",
       "4        2019           FYTD          JUN  Office of Field Operations   \n",
       "\n",
       "          Demographic Citizenship Grouping Title of Authority Encounter Type  \\\n",
       "0  Accompanied Minors            Guatemala            Title 8  Inadmissibles   \n",
       "1                FMUA             Honduras            Title 8  Apprehensions   \n",
       "2       Single Adults                Other            Title 8  Inadmissibles   \n",
       "3       Single Adults            Guatemala            Title 8  Inadmissibles   \n",
       "4       Single Adults             Honduras            Title 8  Inadmissibles   \n",
       "\n",
       "   Encounter Count  \n",
       "0              0.0  \n",
       "1           9584.0  \n",
       "2           1108.0  \n",
       "3             14.0  \n",
       "4             87.0  "
      ]
     },
     "execution_count": 6,
     "metadata": {},
     "output_type": "execute_result"
    }
   ],
   "source": [
    "df.head()"
   ]
  },
  {
   "cell_type": "code",
   "execution_count": 7,
   "metadata": {},
   "outputs": [],
   "source": [
    "# Order of months in a US fiscal year\n",
    "months = ['OCT','NOV',\n",
    "          'DEC','JAN','FEB','MAR',\n",
    "        'APR','MAY','JUN','JUL','AUG', 'SEP']"
   ]
  },
  {
   "cell_type": "code",
   "execution_count": 8,
   "metadata": {},
   "outputs": [],
   "source": [
    "# Create a new column with the month in the order of a US fiscal year\n",
    "df['Month'] = pd.CategoricalIndex(df['Month (abbv)'], ordered=True, categories=months)\n"
   ]
  },
  {
   "cell_type": "code",
   "execution_count": 9,
   "metadata": {},
   "outputs": [],
   "source": [
    "df['Fiscal Year'] = df['Fiscal Year'].replace('2025 (FYTD)', '2025').astype(int)"
   ]
  },
  {
   "cell_type": "code",
   "execution_count": 10,
   "metadata": {},
   "outputs": [],
   "source": [
    "# Make pivot table\n",
    "dfp = df.pivot_table(index=['Fiscal Year','Month'], values='Encounter Count', aggfunc='sum') \\\n",
    "   .sort_values(by=['Fiscal Year','Month'])"
   ]
  },
  {
   "cell_type": "code",
   "execution_count": 11,
   "metadata": {},
   "outputs": [
    {
     "data": {
      "text/html": [
       "<div>\n",
       "<style scoped>\n",
       "    .dataframe tbody tr th:only-of-type {\n",
       "        vertical-align: middle;\n",
       "    }\n",
       "\n",
       "    .dataframe tbody tr th {\n",
       "        vertical-align: top;\n",
       "    }\n",
       "\n",
       "    .dataframe thead th {\n",
       "        text-align: right;\n",
       "    }\n",
       "</style>\n",
       "<table border=\"1\" class=\"dataframe\">\n",
       "  <thead>\n",
       "    <tr style=\"text-align: right;\">\n",
       "      <th></th>\n",
       "      <th></th>\n",
       "      <th>Encounter Count</th>\n",
       "    </tr>\n",
       "    <tr>\n",
       "      <th>Fiscal Year</th>\n",
       "      <th>Month</th>\n",
       "      <th></th>\n",
       "    </tr>\n",
       "  </thead>\n",
       "  <tbody>\n",
       "    <tr>\n",
       "      <th rowspan=\"12\" valign=\"top\">2019</th>\n",
       "      <th>OCT</th>\n",
       "      <td>60781.0</td>\n",
       "    </tr>\n",
       "    <tr>\n",
       "      <th>NOV</th>\n",
       "      <td>62469.0</td>\n",
       "    </tr>\n",
       "    <tr>\n",
       "      <th>DEC</th>\n",
       "      <td>60794.0</td>\n",
       "    </tr>\n",
       "    <tr>\n",
       "      <th>JAN</th>\n",
       "      <td>58317.0</td>\n",
       "    </tr>\n",
       "    <tr>\n",
       "      <th>FEB</th>\n",
       "      <td>76545.0</td>\n",
       "    </tr>\n",
       "    <tr>\n",
       "      <th>MAR</th>\n",
       "      <td>103731.0</td>\n",
       "    </tr>\n",
       "    <tr>\n",
       "      <th>APR</th>\n",
       "      <td>109415.0</td>\n",
       "    </tr>\n",
       "    <tr>\n",
       "      <th>MAY</th>\n",
       "      <td>144116.0</td>\n",
       "    </tr>\n",
       "    <tr>\n",
       "      <th>JUN</th>\n",
       "      <td>104311.0</td>\n",
       "    </tr>\n",
       "    <tr>\n",
       "      <th>JUL</th>\n",
       "      <td>81777.0</td>\n",
       "    </tr>\n",
       "    <tr>\n",
       "      <th>AUG</th>\n",
       "      <td>62707.0</td>\n",
       "    </tr>\n",
       "    <tr>\n",
       "      <th>SEP</th>\n",
       "      <td>52546.0</td>\n",
       "    </tr>\n",
       "  </tbody>\n",
       "</table>\n",
       "</div>"
      ],
      "text/plain": [
       "                   Encounter Count\n",
       "Fiscal Year Month                 \n",
       "2019        OCT            60781.0\n",
       "            NOV            62469.0\n",
       "            DEC            60794.0\n",
       "            JAN            58317.0\n",
       "            FEB            76545.0\n",
       "            MAR           103731.0\n",
       "            APR           109415.0\n",
       "            MAY           144116.0\n",
       "            JUN           104311.0\n",
       "            JUL            81777.0\n",
       "            AUG            62707.0\n",
       "            SEP            52546.0"
      ]
     },
     "execution_count": 11,
     "metadata": {},
     "output_type": "execute_result"
    }
   ],
   "source": [
    "dfp.head(12)"
   ]
  },
  {
   "cell_type": "code",
   "execution_count": 12,
   "metadata": {},
   "outputs": [],
   "source": [
    "# Copy to clipboard\n",
    "dfp.to_clipboard()"
   ]
  },
  {
   "cell_type": "code",
   "execution_count": 13,
   "metadata": {},
   "outputs": [],
   "source": [
    "# Reimport after manually shifting fiscal year to calendar year \n",
    "# (move year start from October to following January)\n",
    "dff = pd.read_csv('data/sbo-encounters-2019-2024.csv')"
   ]
  },
  {
   "cell_type": "code",
   "execution_count": 14,
   "metadata": {},
   "outputs": [
    {
     "data": {
      "text/html": [
       "<div>\n",
       "<style scoped>\n",
       "    .dataframe tbody tr th:only-of-type {\n",
       "        vertical-align: middle;\n",
       "    }\n",
       "\n",
       "    .dataframe tbody tr th {\n",
       "        vertical-align: top;\n",
       "    }\n",
       "\n",
       "    .dataframe thead th {\n",
       "        text-align: right;\n",
       "    }\n",
       "</style>\n",
       "<table border=\"1\" class=\"dataframe\">\n",
       "  <thead>\n",
       "    <tr style=\"text-align: right;\">\n",
       "      <th></th>\n",
       "      <th>Year</th>\n",
       "      <th>Month</th>\n",
       "      <th>Encounter Count</th>\n",
       "    </tr>\n",
       "  </thead>\n",
       "  <tbody>\n",
       "    <tr>\n",
       "      <th>0</th>\n",
       "      <td>2019</td>\n",
       "      <td>JAN</td>\n",
       "      <td>58317.0</td>\n",
       "    </tr>\n",
       "    <tr>\n",
       "      <th>1</th>\n",
       "      <td>2019</td>\n",
       "      <td>FEB</td>\n",
       "      <td>76545.0</td>\n",
       "    </tr>\n",
       "    <tr>\n",
       "      <th>2</th>\n",
       "      <td>2019</td>\n",
       "      <td>MAR</td>\n",
       "      <td>103731.0</td>\n",
       "    </tr>\n",
       "    <tr>\n",
       "      <th>3</th>\n",
       "      <td>2019</td>\n",
       "      <td>APR</td>\n",
       "      <td>109415.0</td>\n",
       "    </tr>\n",
       "    <tr>\n",
       "      <th>4</th>\n",
       "      <td>2019</td>\n",
       "      <td>MAY</td>\n",
       "      <td>144116.0</td>\n",
       "    </tr>\n",
       "  </tbody>\n",
       "</table>\n",
       "</div>"
      ],
      "text/plain": [
       "   Year Month  Encounter Count\n",
       "0  2019   JAN          58317.0\n",
       "1  2019   FEB          76545.0\n",
       "2  2019   MAR         103731.0\n",
       "3  2019   APR         109415.0\n",
       "4  2019   MAY         144116.0"
      ]
     },
     "execution_count": 14,
     "metadata": {},
     "output_type": "execute_result"
    }
   ],
   "source": [
    "dff.head()"
   ]
  },
  {
   "cell_type": "code",
   "execution_count": 15,
   "metadata": {},
   "outputs": [],
   "source": [
    "# Make column combining year and month\n",
    "dff['Date'] = pd.to_datetime(dff['Year'].astype('str') + '-' + dff['Month'], format='%Y-%b')"
   ]
  },
  {
   "cell_type": "code",
   "execution_count": 16,
   "metadata": {},
   "outputs": [
    {
     "data": {
      "text/html": [
       "<div>\n",
       "<style scoped>\n",
       "    .dataframe tbody tr th:only-of-type {\n",
       "        vertical-align: middle;\n",
       "    }\n",
       "\n",
       "    .dataframe tbody tr th {\n",
       "        vertical-align: top;\n",
       "    }\n",
       "\n",
       "    .dataframe thead th {\n",
       "        text-align: right;\n",
       "    }\n",
       "</style>\n",
       "<table border=\"1\" class=\"dataframe\">\n",
       "  <thead>\n",
       "    <tr style=\"text-align: right;\">\n",
       "      <th></th>\n",
       "      <th>Year</th>\n",
       "      <th>Month</th>\n",
       "      <th>Encounter Count</th>\n",
       "      <th>Date</th>\n",
       "    </tr>\n",
       "  </thead>\n",
       "  <tbody>\n",
       "    <tr>\n",
       "      <th>0</th>\n",
       "      <td>2019</td>\n",
       "      <td>JAN</td>\n",
       "      <td>58317.0</td>\n",
       "      <td>2019-01-01</td>\n",
       "    </tr>\n",
       "    <tr>\n",
       "      <th>1</th>\n",
       "      <td>2019</td>\n",
       "      <td>FEB</td>\n",
       "      <td>76545.0</td>\n",
       "      <td>2019-02-01</td>\n",
       "    </tr>\n",
       "    <tr>\n",
       "      <th>2</th>\n",
       "      <td>2019</td>\n",
       "      <td>MAR</td>\n",
       "      <td>103731.0</td>\n",
       "      <td>2019-03-01</td>\n",
       "    </tr>\n",
       "    <tr>\n",
       "      <th>3</th>\n",
       "      <td>2019</td>\n",
       "      <td>APR</td>\n",
       "      <td>109415.0</td>\n",
       "      <td>2019-04-01</td>\n",
       "    </tr>\n",
       "    <tr>\n",
       "      <th>4</th>\n",
       "      <td>2019</td>\n",
       "      <td>MAY</td>\n",
       "      <td>144116.0</td>\n",
       "      <td>2019-05-01</td>\n",
       "    </tr>\n",
       "  </tbody>\n",
       "</table>\n",
       "</div>"
      ],
      "text/plain": [
       "   Year Month  Encounter Count       Date\n",
       "0  2019   JAN          58317.0 2019-01-01\n",
       "1  2019   FEB          76545.0 2019-02-01\n",
       "2  2019   MAR         103731.0 2019-03-01\n",
       "3  2019   APR         109415.0 2019-04-01\n",
       "4  2019   MAY         144116.0 2019-05-01"
      ]
     },
     "execution_count": 16,
     "metadata": {},
     "output_type": "execute_result"
    }
   ],
   "source": [
    "dff.head()"
   ]
  },
  {
   "cell_type": "code",
   "execution_count": 17,
   "metadata": {},
   "outputs": [
    {
     "data": {
      "text/plain": [
       "pandas._libs.tslibs.timestamps.Timestamp"
      ]
     },
     "execution_count": 17,
     "metadata": {},
     "output_type": "execute_result"
    }
   ],
   "source": [
    "type(dff.Date[0])"
   ]
  },
  {
   "cell_type": "code",
   "execution_count": 18,
   "metadata": {},
   "outputs": [
    {
     "name": "stderr",
     "output_type": "stream",
     "text": [
      "/Users/cfaife/Documents/MATERIALS/GitHub/AFP_data/afp_style.py:48: UserWarning: set_ticklabels() should only be used with a fixed number of ticks, i.e. after set_ticks() or using a FixedLocator.\n",
      "  ax.set_yticklabels(['{:,.0f}'.format(t) for t in yticks])\n"
     ]
    },
    {
     "data": {
      "image/png": "[encoded data removed]",
      "text/plain": [
       "<Figure size 600x400 with 1 Axes>"
      ]
     },
     "metadata": {},
     "output_type": "display_data"
    }
   ],
   "source": [
    "import matplotlib.dates as mdates\n",
    "\n",
    "chart = dff.plot(x='Date', \n",
    "                 y='Encounter Count', \n",
    "                 kind='area', \n",
    "                 color='purple')\n",
    "\n",
    "style.style_plot(plt,\n",
    "                 title='US-Mexico Border Encounters by Month',\n",
    "                 subtitle='Encounters with unauthorized migrants declined sharply in 2024',\n",
    "                 source='CBP')\n",
    "\n",
    "# plt.savefig('BorderEncounters.svg')"
   ]
  },
  {
   "cell_type": "code",
   "execution_count": 19,
   "metadata": {},
   "outputs": [
    {
     "name": "stderr",
     "output_type": "stream",
     "text": [
      "No artists with labels found to put in legend.  Note that artists whose label start with an underscore are ignored when legend() is called with no argument.\n",
      "/Users/cfaife/Documents/MATERIALS/GitHub/AFP_data/afp_style.py:48: UserWarning: set_ticklabels() should only be used with a fixed number of ticks, i.e. after set_ticks() or using a FixedLocator.\n",
      "  ax.set_yticklabels(['{:,.0f}'.format(t) for t in yticks])\n"
     ]
    },
    {
     "data": {
      "image/png": "[encoded data removed]",
      "text/plain": [
       "<Figure size 600x400 with 1 Axes>"
      ]
     },
     "metadata": {},
     "output_type": "display_data"
    }
   ],
   "source": [
    "# We could also do a bar chart version?\n",
    "\n",
    "fig, ax = plt.subplots()\n",
    "\n",
    "ax.bar(dff.Date, dff['Encounter Count'], \n",
    "        color='purple',\n",
    "        width=25)\n",
    "\n",
    "style.style_plot(plt,\n",
    "                 title='US-Mexico Border Encounters by Month',\n",
    "                 subtitle='Encounters with unauthorized migrants declined sharply in 2024',\n",
    "                 source='CBP')\n",
    "\n",
    "# plt.savefig('BorderEncounters.svg')"
   ]
  },
  {
   "cell_type": "code",
   "execution_count": 20,
   "metadata": {},
   "outputs": [
    {
     "data": {
      "text/plain": [
       "Year                              2024\n",
       "Month                              NOV\n",
       "Encounter Count                94190.0\n",
       "Date               2024-11-01 00:00:00\n",
       "Name: 70, dtype: object"
      ]
     },
     "execution_count": 20,
     "metadata": {},
     "output_type": "execute_result"
    }
   ],
   "source": [
    "# Get most recent value\n",
    "dff.iloc[-1]"
   ]
  },
  {
   "cell_type": "code",
   "execution_count": 21,
   "metadata": {},
   "outputs": [
    {
     "data": {
      "text/plain": [
       "Year                              2023\n",
       "Month                              DEC\n",
       "Encounter Count               301981.0\n",
       "Date               2023-12-01 00:00:00\n",
       "Name: 59, dtype: object"
      ]
     },
     "execution_count": 21,
     "metadata": {},
     "output_type": "execute_result"
    }
   ],
   "source": [
    "# Get max value with date\n",
    "dff.iloc[\n",
    "    dff[dff['Encounter Count'] == dff['Encounter Count'].max()].index[0]\n",
    "]"
   ]
  },
  {
   "cell_type": "code",
   "execution_count": 22,
   "metadata": {},
   "outputs": [
    {
     "data": {
      "text/plain": [
       "Year                              2020\n",
       "Month                              APR\n",
       "Encounter Count                17106.0\n",
       "Date               2020-04-01 00:00:00\n",
       "Name: 15, dtype: object"
      ]
     },
     "execution_count": 22,
     "metadata": {},
     "output_type": "execute_result"
    }
   ],
   "source": [
    "# Get min value with date\n",
    "dff.iloc[\n",
    "    dff[dff['Encounter Count'] == dff['Encounter Count'].min()].index[0]\n",
    "]"
   ]
  },
  {
   "cell_type": "code",
   "execution_count": null,
   "metadata": {},
   "outputs": [],
   "source": []
  }
 ],
 "metadata": {
  "kernelspec": {
   "display_name": "data",
   "language": "python",
   "name": "python3"
  },
  "language_info": {
   "codemirror_mode": {
    "name": "ipython",
    "version": 3
   },
   "file_extension": ".py",
   "mimetype": "text/x-python",
   "name": "python",
   "nbconvert_exporter": "python",
   "pygments_lexer": "ipython3",
   "version": "3.11.5"
  }
 },
 "nbformat": 4,
 "nbformat_minor": 2
}
